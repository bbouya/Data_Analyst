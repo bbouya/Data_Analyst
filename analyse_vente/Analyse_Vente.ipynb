{
 "cells": [
  {
   "cell_type": "raw",
   "id": "4db8cf68",
   "metadata": {},
   "source": [
    "📚 Analyse des ventes\n",
    "Après un an de ventes en ligne, la société Rester Livres dispose de suffisamment de données pour dresser une typologie précise de ses clients et produits. Nous allons vérifier s'il existe un lien entre le sexe des clients et les catégories de produits achetés, l'âge et le montant total des achats, la fréquence d'achat ou encore la taille du panier moyen.\n",
    "\n",
    "Hormis les librairies Pandas et Seaborn, nous utiliserons scikit-learn pour confirmer les corrélations à l'aide de tests statistiques."
   ]
  },
  {
   "cell_type": "code",
   "execution_count": 1,
   "id": "5271258c",
   "metadata": {},
   "outputs": [],
   "source": [
    "#Imporations libraries\n",
    "import numpy as np\n",
    "import pandas as pd\n",
    "import matplotlib.pyplot as plt\n",
    "import seaborn as sns\n",
    "import sklearn as sk\n",
    "from sklearn import ensemble\n",
    "from datetime import datetime\n",
    "import scipy.stats as stats"
   ]
  },
  {
   "cell_type": "code",
   "execution_count": 2,
   "id": "c30b23c8",
   "metadata": {},
   "outputs": [],
   "source": [
    "sns.set( # Styles Seaborn\n",
    "    style='whitegrid',\n",
    "    context='notebook',\n",
    "    palette='Paired',\n",
    "    rc={'figure.figsize':(8,4)})"
   ]
  },
  {
   "cell_type": "code",
   "execution_count": 3,
   "id": "f6c44d7a",
   "metadata": {},
   "outputs": [],
   "source": [
    "# Affichage des nombres : séparateur des milliers, et réduction du nombre de décimales\n",
    "pd.options.display.float_format = '{:,.2f}'.format"
   ]
  },
  {
   "cell_type": "markdown",
   "id": "5954e293",
   "metadata": {},
   "source": [
    "# Exploration\n",
    "On dispose de 3 jeux de données : clients, produits et transactions."
   ]
  },
  {
   "cell_type": "code",
   "execution_count": 22,
   "id": "a1f531f9",
   "metadata": {},
   "outputs": [],
   "source": [
    "# Les donnes sont stocker dans un repertoir source Githube Repository\n",
    "url = 'https://raw.githubusercontent.com/bbouya/Data_Analyst/main/analyse_vente/sources/'\n",
    "# Dataset clients\n",
    "clients = pd.read_csv(url + 'customers.csv')\n",
    "# Dataset produits\n",
    "produits = pd.read_csv(url + 'products.csv')\n",
    "# Transactions dataset\n",
    "transactions = pd.read_csv(url + 'transactions.csv')\n"
   ]
  },
  {
   "cell_type": "code",
   "execution_count": 23,
   "id": "1601f036",
   "metadata": {},
   "outputs": [
    {
     "data": {
      "text/html": [
       "<div>\n",
       "<style scoped>\n",
       "    .dataframe tbody tr th:only-of-type {\n",
       "        vertical-align: middle;\n",
       "    }\n",
       "\n",
       "    .dataframe tbody tr th {\n",
       "        vertical-align: top;\n",
       "    }\n",
       "\n",
       "    .dataframe thead th {\n",
       "        text-align: right;\n",
       "    }\n",
       "</style>\n",
       "<table border=\"1\" class=\"dataframe\">\n",
       "  <thead>\n",
       "    <tr style=\"text-align: right;\">\n",
       "      <th></th>\n",
       "      <th>id_prod</th>\n",
       "      <th>date</th>\n",
       "      <th>session_id</th>\n",
       "      <th>client_id</th>\n",
       "    </tr>\n",
       "  </thead>\n",
       "  <tbody>\n",
       "    <tr>\n",
       "      <th>0</th>\n",
       "      <td>0_1483</td>\n",
       "      <td>2021-04-10 18:37:28.723910</td>\n",
       "      <td>s_18746</td>\n",
       "      <td>c_4450</td>\n",
       "    </tr>\n",
       "    <tr>\n",
       "      <th>1</th>\n",
       "      <td>2_226</td>\n",
       "      <td>2022-02-03 01:55:53.276402</td>\n",
       "      <td>s_159142</td>\n",
       "      <td>c_277</td>\n",
       "    </tr>\n",
       "    <tr>\n",
       "      <th>2</th>\n",
       "      <td>1_374</td>\n",
       "      <td>2021-09-23 15:13:46.938559</td>\n",
       "      <td>s_94290</td>\n",
       "      <td>c_4270</td>\n",
       "    </tr>\n",
       "    <tr>\n",
       "      <th>3</th>\n",
       "      <td>0_2186</td>\n",
       "      <td>2021-10-17 03:27:18.783634</td>\n",
       "      <td>s_105936</td>\n",
       "      <td>c_4597</td>\n",
       "    </tr>\n",
       "    <tr>\n",
       "      <th>4</th>\n",
       "      <td>0_1351</td>\n",
       "      <td>2021-07-17 20:34:25.800563</td>\n",
       "      <td>s_63642</td>\n",
       "      <td>c_1242</td>\n",
       "    </tr>\n",
       "  </tbody>\n",
       "</table>\n",
       "</div>"
      ],
      "text/plain": [
       "  id_prod                        date session_id client_id\n",
       "0  0_1483  2021-04-10 18:37:28.723910    s_18746    c_4450\n",
       "1   2_226  2022-02-03 01:55:53.276402   s_159142     c_277\n",
       "2   1_374  2021-09-23 15:13:46.938559    s_94290    c_4270\n",
       "3  0_2186  2021-10-17 03:27:18.783634   s_105936    c_4597\n",
       "4  0_1351  2021-07-17 20:34:25.800563    s_63642    c_1242"
      ]
     },
     "execution_count": 23,
     "metadata": {},
     "output_type": "execute_result"
    }
   ],
   "source": [
    "transactions.head()"
   ]
  },
  {
   "cell_type": "markdown",
   "id": "0311d8ce",
   "metadata": {},
   "source": [
    "On verifier que la table ne contient aucun doublon avant de pouvoir determiner la cle primaire,\n",
    "a savoir 'client_id: les 8622 clients sont tous distincts"
   ]
  },
  {
   "cell_type": "code",
   "execution_count": 24,
   "id": "6d6e3838",
   "metadata": {},
   "outputs": [
    {
     "name": "stdout",
     "output_type": "stream",
     "text": [
      "0 doublons\n"
     ]
    }
   ],
   "source": [
    "#savoir nembre de doublons dn la dataframe\n",
    "\n",
    "def doublons(df):\n",
    "    print(len(df) - len(df.drop_duplicates()), 'doublons')\n",
    "\n",
    "doublons(clients)"
   ]
  },
  {
   "cell_type": "code",
   "execution_count": 25,
   "id": "beca18e5",
   "metadata": {
    "scrolled": true
   },
   "outputs": [
    {
     "name": "stdout",
     "output_type": "stream",
     "text": [
      "Pas une clé primaire ( 8547 doublons )\n",
      "None\n",
      "Clé primaire (0 doublon)\n",
      "None\n"
     ]
    }
   ],
   "source": [
    "def cle_primaire(df_cle): # Vérification de la clé primaire\n",
    "    table_length = len(df_cle) - len(df_cle.drop_duplicates())\n",
    "    if table_length == 0:\n",
    "        print('Clé primaire (0 doublon)')\n",
    "    else:\n",
    "        print('Pas une clé primaire (', table_length, 'doublons )')\n",
    "    \n",
    "\n",
    "print(cle_primaire(clients['birth']))\n",
    "print(cle_primaire(clients['client_id']))"
   ]
  },
  {
   "cell_type": "code",
   "execution_count": 26,
   "id": "b0290211",
   "metadata": {},
   "outputs": [
    {
     "data": {
      "text/plain": [
       "0       c_4410\n",
       "1       c_7839\n",
       "2       c_1699\n",
       "3       c_5961\n",
       "4       c_5320\n",
       "         ...  \n",
       "8618    c_7920\n",
       "8619    c_7403\n",
       "8620    c_5119\n",
       "8621    c_5643\n",
       "8622      c_84\n",
       "Name: client_id, Length: 8623, dtype: object"
      ]
     },
     "execution_count": 26,
     "metadata": {},
     "output_type": "execute_result"
    }
   ],
   "source": [
    "clients['client_id']"
   ]
  },
  {
   "cell_type": "code",
   "execution_count": 27,
   "id": "00810697",
   "metadata": {},
   "outputs": [
    {
     "name": "stdout",
     "output_type": "stream",
     "text": [
      "Clé primaire (0 doublon)\n"
     ]
    }
   ],
   "source": [
    "cle_primaire(clients['client_id'])"
   ]
  },
  {
   "cell_type": "code",
   "execution_count": 28,
   "id": "dc9ecb88",
   "metadata": {},
   "outputs": [
    {
     "name": "stdout",
     "output_type": "stream",
     "text": [
      "<class 'pandas.core.frame.DataFrame'>\n",
      "RangeIndex: 8623 entries, 0 to 8622\n",
      "Data columns (total 3 columns):\n",
      " #   Column     Non-Null Count  Dtype \n",
      "---  ------     --------------  ----- \n",
      " 0   client_id  8623 non-null   object\n",
      " 1   sex        8623 non-null   object\n",
      " 2   birth      8623 non-null   int64 \n",
      "dtypes: int64(1), object(2)\n",
      "memory usage: 202.2+ KB\n"
     ]
    }
   ],
   "source": [
    "clients.info()"
   ]
  },
  {
   "cell_type": "code",
   "execution_count": 29,
   "id": "dc4bebcc",
   "metadata": {},
   "outputs": [
    {
     "data": {
      "text/html": [
       "<div>\n",
       "<style scoped>\n",
       "    .dataframe tbody tr th:only-of-type {\n",
       "        vertical-align: middle;\n",
       "    }\n",
       "\n",
       "    .dataframe tbody tr th {\n",
       "        vertical-align: top;\n",
       "    }\n",
       "\n",
       "    .dataframe thead th {\n",
       "        text-align: right;\n",
       "    }\n",
       "</style>\n",
       "<table border=\"1\" class=\"dataframe\">\n",
       "  <thead>\n",
       "    <tr style=\"text-align: right;\">\n",
       "      <th></th>\n",
       "      <th>client_id</th>\n",
       "      <th>sex</th>\n",
       "      <th>birth</th>\n",
       "    </tr>\n",
       "  </thead>\n",
       "  <tbody>\n",
       "    <tr>\n",
       "      <th>count</th>\n",
       "      <td>8623</td>\n",
       "      <td>8623</td>\n",
       "      <td>8,623.00</td>\n",
       "    </tr>\n",
       "    <tr>\n",
       "      <th>unique</th>\n",
       "      <td>8623</td>\n",
       "      <td>2</td>\n",
       "      <td>NaN</td>\n",
       "    </tr>\n",
       "    <tr>\n",
       "      <th>top</th>\n",
       "      <td>c_7739</td>\n",
       "      <td>f</td>\n",
       "      <td>NaN</td>\n",
       "    </tr>\n",
       "    <tr>\n",
       "      <th>freq</th>\n",
       "      <td>1</td>\n",
       "      <td>4491</td>\n",
       "      <td>NaN</td>\n",
       "    </tr>\n",
       "    <tr>\n",
       "      <th>mean</th>\n",
       "      <td>NaN</td>\n",
       "      <td>NaN</td>\n",
       "      <td>1,978.28</td>\n",
       "    </tr>\n",
       "    <tr>\n",
       "      <th>std</th>\n",
       "      <td>NaN</td>\n",
       "      <td>NaN</td>\n",
       "      <td>16.92</td>\n",
       "    </tr>\n",
       "    <tr>\n",
       "      <th>min</th>\n",
       "      <td>NaN</td>\n",
       "      <td>NaN</td>\n",
       "      <td>1,929.00</td>\n",
       "    </tr>\n",
       "    <tr>\n",
       "      <th>25%</th>\n",
       "      <td>NaN</td>\n",
       "      <td>NaN</td>\n",
       "      <td>1,966.00</td>\n",
       "    </tr>\n",
       "    <tr>\n",
       "      <th>50%</th>\n",
       "      <td>NaN</td>\n",
       "      <td>NaN</td>\n",
       "      <td>1,979.00</td>\n",
       "    </tr>\n",
       "    <tr>\n",
       "      <th>75%</th>\n",
       "      <td>NaN</td>\n",
       "      <td>NaN</td>\n",
       "      <td>1,992.00</td>\n",
       "    </tr>\n",
       "    <tr>\n",
       "      <th>max</th>\n",
       "      <td>NaN</td>\n",
       "      <td>NaN</td>\n",
       "      <td>2,004.00</td>\n",
       "    </tr>\n",
       "  </tbody>\n",
       "</table>\n",
       "</div>"
      ],
      "text/plain": [
       "       client_id   sex    birth\n",
       "count       8623  8623 8,623.00\n",
       "unique      8623     2      NaN\n",
       "top       c_7739     f      NaN\n",
       "freq           1  4491      NaN\n",
       "mean         NaN   NaN 1,978.28\n",
       "std          NaN   NaN    16.92\n",
       "min          NaN   NaN 1,929.00\n",
       "25%          NaN   NaN 1,966.00\n",
       "50%          NaN   NaN 1,979.00\n",
       "75%          NaN   NaN 1,992.00\n",
       "max          NaN   NaN 2,004.00"
      ]
     },
     "execution_count": 29,
     "metadata": {},
     "output_type": "execute_result"
    }
   ],
   "source": [
    "clients.describe(include = 'all')"
   ]
  },
  {
   "cell_type": "code",
   "execution_count": 30,
   "id": "087f9bc3",
   "metadata": {},
   "outputs": [
    {
     "name": "stdout",
     "output_type": "stream",
     "text": [
      "Modalite de sex ['f', 'm']\n"
     ]
    }
   ],
   "source": [
    "#le variable 'sex' n'affiche elle que deux modalites:\n",
    "print('Modalite de sex', list(clients['sex'].unique()))"
   ]
  },
  {
   "cell_type": "markdown",
   "id": "dfb637b2",
   "metadata": {},
   "source": [
    "# Produits\n",
    "la table produit detaille l'identifiant, le prix et la categorie de 3287 livres\n"
   ]
  },
  {
   "cell_type": "code",
   "execution_count": 31,
   "id": "41b1b2b7",
   "metadata": {},
   "outputs": [
    {
     "data": {
      "text/html": [
       "<div>\n",
       "<style scoped>\n",
       "    .dataframe tbody tr th:only-of-type {\n",
       "        vertical-align: middle;\n",
       "    }\n",
       "\n",
       "    .dataframe tbody tr th {\n",
       "        vertical-align: top;\n",
       "    }\n",
       "\n",
       "    .dataframe thead th {\n",
       "        text-align: right;\n",
       "    }\n",
       "</style>\n",
       "<table border=\"1\" class=\"dataframe\">\n",
       "  <thead>\n",
       "    <tr style=\"text-align: right;\">\n",
       "      <th></th>\n",
       "      <th>id_prod</th>\n",
       "      <th>price</th>\n",
       "      <th>categ</th>\n",
       "    </tr>\n",
       "  </thead>\n",
       "  <tbody>\n",
       "    <tr>\n",
       "      <th>0</th>\n",
       "      <td>0_1421</td>\n",
       "      <td>19.99</td>\n",
       "      <td>0</td>\n",
       "    </tr>\n",
       "    <tr>\n",
       "      <th>1</th>\n",
       "      <td>0_1368</td>\n",
       "      <td>5.13</td>\n",
       "      <td>0</td>\n",
       "    </tr>\n",
       "    <tr>\n",
       "      <th>2</th>\n",
       "      <td>0_731</td>\n",
       "      <td>17.99</td>\n",
       "      <td>0</td>\n",
       "    </tr>\n",
       "    <tr>\n",
       "      <th>3</th>\n",
       "      <td>1_587</td>\n",
       "      <td>4.99</td>\n",
       "      <td>1</td>\n",
       "    </tr>\n",
       "    <tr>\n",
       "      <th>4</th>\n",
       "      <td>0_1507</td>\n",
       "      <td>3.99</td>\n",
       "      <td>0</td>\n",
       "    </tr>\n",
       "  </tbody>\n",
       "</table>\n",
       "</div>"
      ],
      "text/plain": [
       "  id_prod  price  categ\n",
       "0  0_1421  19.99      0\n",
       "1  0_1368   5.13      0\n",
       "2   0_731  17.99      0\n",
       "3   1_587   4.99      1\n",
       "4  0_1507   3.99      0"
      ]
     },
     "execution_count": 31,
     "metadata": {},
     "output_type": "execute_result"
    }
   ],
   "source": [
    "produits.head()\n"
   ]
  },
  {
   "cell_type": "code",
   "execution_count": 32,
   "id": "7aba806c",
   "metadata": {},
   "outputs": [
    {
     "name": "stdout",
     "output_type": "stream",
     "text": [
      "0 doublons\n"
     ]
    }
   ],
   "source": [
    "# la encore aucun doublon ni valuer manquante.\n",
    "doublons(produits)"
   ]
  },
  {
   "cell_type": "code",
   "execution_count": 33,
   "id": "5f95944a",
   "metadata": {},
   "outputs": [
    {
     "name": "stdout",
     "output_type": "stream",
     "text": [
      "Clé primaire (0 doublon)\n"
     ]
    }
   ],
   "source": [
    "cle_primaire(produits[\"id_prod\"])"
   ]
  },
  {
   "cell_type": "code",
   "execution_count": 34,
   "id": "f8dd938e",
   "metadata": {},
   "outputs": [
    {
     "name": "stdout",
     "output_type": "stream",
     "text": [
      "<class 'pandas.core.frame.DataFrame'>\n",
      "RangeIndex: 3287 entries, 0 to 3286\n",
      "Data columns (total 3 columns):\n",
      " #   Column   Non-Null Count  Dtype  \n",
      "---  ------   --------------  -----  \n",
      " 0   id_prod  3287 non-null   object \n",
      " 1   price    3287 non-null   float64\n",
      " 2   categ    3287 non-null   int64  \n",
      "dtypes: float64(1), int64(1), object(1)\n",
      "memory usage: 77.2+ KB\n"
     ]
    }
   ],
   "source": [
    "produits.info()"
   ]
  },
  {
   "cell_type": "code",
   "execution_count": 35,
   "id": "e2aba2ef",
   "metadata": {},
   "outputs": [
    {
     "data": {
      "text/html": [
       "<div>\n",
       "<style scoped>\n",
       "    .dataframe tbody tr th:only-of-type {\n",
       "        vertical-align: middle;\n",
       "    }\n",
       "\n",
       "    .dataframe tbody tr th {\n",
       "        vertical-align: top;\n",
       "    }\n",
       "\n",
       "    .dataframe thead th {\n",
       "        text-align: right;\n",
       "    }\n",
       "</style>\n",
       "<table border=\"1\" class=\"dataframe\">\n",
       "  <thead>\n",
       "    <tr style=\"text-align: right;\">\n",
       "      <th></th>\n",
       "      <th>id_prod</th>\n",
       "      <th>price</th>\n",
       "      <th>categ</th>\n",
       "    </tr>\n",
       "  </thead>\n",
       "  <tbody>\n",
       "    <tr>\n",
       "      <th>count</th>\n",
       "      <td>3287</td>\n",
       "      <td>3,287.00</td>\n",
       "      <td>3,287.00</td>\n",
       "    </tr>\n",
       "    <tr>\n",
       "      <th>unique</th>\n",
       "      <td>3287</td>\n",
       "      <td>NaN</td>\n",
       "      <td>NaN</td>\n",
       "    </tr>\n",
       "    <tr>\n",
       "      <th>top</th>\n",
       "      <td>0_326</td>\n",
       "      <td>NaN</td>\n",
       "      <td>NaN</td>\n",
       "    </tr>\n",
       "    <tr>\n",
       "      <th>freq</th>\n",
       "      <td>1</td>\n",
       "      <td>NaN</td>\n",
       "      <td>NaN</td>\n",
       "    </tr>\n",
       "    <tr>\n",
       "      <th>mean</th>\n",
       "      <td>NaN</td>\n",
       "      <td>21.86</td>\n",
       "      <td>0.37</td>\n",
       "    </tr>\n",
       "    <tr>\n",
       "      <th>std</th>\n",
       "      <td>NaN</td>\n",
       "      <td>29.85</td>\n",
       "      <td>0.62</td>\n",
       "    </tr>\n",
       "    <tr>\n",
       "      <th>min</th>\n",
       "      <td>NaN</td>\n",
       "      <td>-1.00</td>\n",
       "      <td>0.00</td>\n",
       "    </tr>\n",
       "    <tr>\n",
       "      <th>25%</th>\n",
       "      <td>NaN</td>\n",
       "      <td>6.99</td>\n",
       "      <td>0.00</td>\n",
       "    </tr>\n",
       "    <tr>\n",
       "      <th>50%</th>\n",
       "      <td>NaN</td>\n",
       "      <td>13.06</td>\n",
       "      <td>0.00</td>\n",
       "    </tr>\n",
       "    <tr>\n",
       "      <th>75%</th>\n",
       "      <td>NaN</td>\n",
       "      <td>22.99</td>\n",
       "      <td>1.00</td>\n",
       "    </tr>\n",
       "    <tr>\n",
       "      <th>max</th>\n",
       "      <td>NaN</td>\n",
       "      <td>300.00</td>\n",
       "      <td>2.00</td>\n",
       "    </tr>\n",
       "  </tbody>\n",
       "</table>\n",
       "</div>"
      ],
      "text/plain": [
       "       id_prod    price    categ\n",
       "count     3287 3,287.00 3,287.00\n",
       "unique    3287      NaN      NaN\n",
       "top      0_326      NaN      NaN\n",
       "freq         1      NaN      NaN\n",
       "mean       NaN    21.86     0.37\n",
       "std        NaN    29.85     0.62\n",
       "min        NaN    -1.00     0.00\n",
       "25%        NaN     6.99     0.00\n",
       "50%        NaN    13.06     0.00\n",
       "75%        NaN    22.99     1.00\n",
       "max        NaN   300.00     2.00"
      ]
     },
     "execution_count": 35,
     "metadata": {},
     "output_type": "execute_result"
    }
   ],
   "source": [
    "produits.describe(include = \"all\")"
   ]
  },
  {
   "cell_type": "code",
   "execution_count": 36,
   "id": "07b69565",
   "metadata": {},
   "outputs": [
    {
     "data": {
      "text/html": [
       "<div>\n",
       "<style scoped>\n",
       "    .dataframe tbody tr th:only-of-type {\n",
       "        vertical-align: middle;\n",
       "    }\n",
       "\n",
       "    .dataframe tbody tr th {\n",
       "        vertical-align: top;\n",
       "    }\n",
       "\n",
       "    .dataframe thead th {\n",
       "        text-align: right;\n",
       "    }\n",
       "</style>\n",
       "<table border=\"1\" class=\"dataframe\">\n",
       "  <thead>\n",
       "    <tr style=\"text-align: right;\">\n",
       "      <th></th>\n",
       "      <th>id_prod</th>\n",
       "      <th>price</th>\n",
       "      <th>categ</th>\n",
       "    </tr>\n",
       "  </thead>\n",
       "  <tbody>\n",
       "    <tr>\n",
       "      <th>731</th>\n",
       "      <td>T_0</td>\n",
       "      <td>-1.00</td>\n",
       "      <td>0</td>\n",
       "    </tr>\n",
       "    <tr>\n",
       "      <th>2355</th>\n",
       "      <td>0_202</td>\n",
       "      <td>0.62</td>\n",
       "      <td>0</td>\n",
       "    </tr>\n",
       "    <tr>\n",
       "      <th>2272</th>\n",
       "      <td>0_528</td>\n",
       "      <td>0.62</td>\n",
       "      <td>0</td>\n",
       "    </tr>\n",
       "    <tr>\n",
       "      <th>370</th>\n",
       "      <td>0_120</td>\n",
       "      <td>0.66</td>\n",
       "      <td>0</td>\n",
       "    </tr>\n",
       "    <tr>\n",
       "      <th>1211</th>\n",
       "      <td>0_1844</td>\n",
       "      <td>0.77</td>\n",
       "      <td>0</td>\n",
       "    </tr>\n",
       "    <tr>\n",
       "      <th>...</th>\n",
       "      <td>...</td>\n",
       "      <td>...</td>\n",
       "      <td>...</td>\n",
       "    </tr>\n",
       "    <tr>\n",
       "      <th>2779</th>\n",
       "      <td>2_30</td>\n",
       "      <td>233.54</td>\n",
       "      <td>2</td>\n",
       "    </tr>\n",
       "    <tr>\n",
       "      <th>1436</th>\n",
       "      <td>2_167</td>\n",
       "      <td>236.99</td>\n",
       "      <td>2</td>\n",
       "    </tr>\n",
       "    <tr>\n",
       "      <th>394</th>\n",
       "      <td>2_158</td>\n",
       "      <td>247.22</td>\n",
       "      <td>2</td>\n",
       "    </tr>\n",
       "    <tr>\n",
       "      <th>724</th>\n",
       "      <td>2_76</td>\n",
       "      <td>254.44</td>\n",
       "      <td>2</td>\n",
       "    </tr>\n",
       "    <tr>\n",
       "      <th>947</th>\n",
       "      <td>2_2</td>\n",
       "      <td>300.00</td>\n",
       "      <td>2</td>\n",
       "    </tr>\n",
       "  </tbody>\n",
       "</table>\n",
       "<p>3287 rows × 3 columns</p>\n",
       "</div>"
      ],
      "text/plain": [
       "     id_prod  price  categ\n",
       "731      T_0  -1.00      0\n",
       "2355   0_202   0.62      0\n",
       "2272   0_528   0.62      0\n",
       "370    0_120   0.66      0\n",
       "1211  0_1844   0.77      0\n",
       "...      ...    ...    ...\n",
       "2779    2_30 233.54      2\n",
       "1436   2_167 236.99      2\n",
       "394    2_158 247.22      2\n",
       "724     2_76 254.44      2\n",
       "947      2_2 300.00      2\n",
       "\n",
       "[3287 rows x 3 columns]"
      ]
     },
     "execution_count": 36,
     "metadata": {},
     "output_type": "execute_result"
    }
   ],
   "source": [
    "produits.sort_values(by='price')"
   ]
  },
  {
   "cell_type": "code",
   "execution_count": 37,
   "id": "5f5c004c",
   "metadata": {},
   "outputs": [
    {
     "name": "stdout",
     "output_type": "stream",
     "text": [
      "Modalite de categ :  [0, 1, 2]\n"
     ]
    }
   ],
   "source": [
    "print(\"Modalite de categ : \", list(produits['categ'].unique()))"
   ]
  },
  {
   "cell_type": "markdown",
   "id": "f5e287bb",
   "metadata": {},
   "source": [
    "# Transactions\n",
    "Le jeu des transactions detaille la date et les identifiants de la session du client et du produit vendu"
   ]
  },
  {
   "cell_type": "code",
   "execution_count": 39,
   "id": "555ac7be",
   "metadata": {},
   "outputs": [
    {
     "data": {
      "text/html": [
       "<div>\n",
       "<style scoped>\n",
       "    .dataframe tbody tr th:only-of-type {\n",
       "        vertical-align: middle;\n",
       "    }\n",
       "\n",
       "    .dataframe tbody tr th {\n",
       "        vertical-align: top;\n",
       "    }\n",
       "\n",
       "    .dataframe thead th {\n",
       "        text-align: right;\n",
       "    }\n",
       "</style>\n",
       "<table border=\"1\" class=\"dataframe\">\n",
       "  <thead>\n",
       "    <tr style=\"text-align: right;\">\n",
       "      <th></th>\n",
       "      <th>id_prod</th>\n",
       "      <th>date</th>\n",
       "      <th>session_id</th>\n",
       "      <th>client_id</th>\n",
       "    </tr>\n",
       "  </thead>\n",
       "  <tbody>\n",
       "    <tr>\n",
       "      <th>0</th>\n",
       "      <td>0_1483</td>\n",
       "      <td>2021-04-10 18:37:28.723910</td>\n",
       "      <td>s_18746</td>\n",
       "      <td>c_4450</td>\n",
       "    </tr>\n",
       "    <tr>\n",
       "      <th>1</th>\n",
       "      <td>2_226</td>\n",
       "      <td>2022-02-03 01:55:53.276402</td>\n",
       "      <td>s_159142</td>\n",
       "      <td>c_277</td>\n",
       "    </tr>\n",
       "    <tr>\n",
       "      <th>2</th>\n",
       "      <td>1_374</td>\n",
       "      <td>2021-09-23 15:13:46.938559</td>\n",
       "      <td>s_94290</td>\n",
       "      <td>c_4270</td>\n",
       "    </tr>\n",
       "    <tr>\n",
       "      <th>3</th>\n",
       "      <td>0_2186</td>\n",
       "      <td>2021-10-17 03:27:18.783634</td>\n",
       "      <td>s_105936</td>\n",
       "      <td>c_4597</td>\n",
       "    </tr>\n",
       "    <tr>\n",
       "      <th>4</th>\n",
       "      <td>0_1351</td>\n",
       "      <td>2021-07-17 20:34:25.800563</td>\n",
       "      <td>s_63642</td>\n",
       "      <td>c_1242</td>\n",
       "    </tr>\n",
       "  </tbody>\n",
       "</table>\n",
       "</div>"
      ],
      "text/plain": [
       "  id_prod                        date session_id client_id\n",
       "0  0_1483  2021-04-10 18:37:28.723910    s_18746    c_4450\n",
       "1   2_226  2022-02-03 01:55:53.276402   s_159142     c_277\n",
       "2   1_374  2021-09-23 15:13:46.938559    s_94290    c_4270\n",
       "3  0_2186  2021-10-17 03:27:18.783634   s_105936    c_4597\n",
       "4  0_1351  2021-07-17 20:34:25.800563    s_63642    c_1242"
      ]
     },
     "execution_count": 39,
     "metadata": {},
     "output_type": "execute_result"
    }
   ],
   "source": [
    "transactions.head()"
   ]
  },
  {
   "cell_type": "markdown",
   "id": "66442163",
   "metadata": {},
   "source": [
    "Cette fois-ci la table comptes 126 "
   ]
  },
  {
   "cell_type": "code",
   "execution_count": 40,
   "id": "0a7aaf85",
   "metadata": {},
   "outputs": [
    {
     "name": "stdout",
     "output_type": "stream",
     "text": [
      "126 doublons\n"
     ]
    }
   ],
   "source": [
    "doublons(transactions)"
   ]
  },
  {
   "cell_type": "code",
   "execution_count": 41,
   "id": "88f5bfd3",
   "metadata": {},
   "outputs": [
    {
     "name": "stdout",
     "output_type": "stream",
     "text": [
      "126 doublons\n"
     ]
    }
   ],
   "source": [
    "doublons(transactions)"
   ]
  },
  {
   "cell_type": "code",
   "execution_count": 42,
   "id": "15bf4114",
   "metadata": {},
   "outputs": [
    {
     "name": "stdout",
     "output_type": "stream",
     "text": [
      "0 doublons\n"
     ]
    }
   ],
   "source": [
    "transactions.drop_duplicates(inplace = True)#Supression de duplicate\n",
    "doublons(transactions)"
   ]
  },
  {
   "cell_type": "code",
   "execution_count": 43,
   "id": "a41fb654",
   "metadata": {},
   "outputs": [
    {
     "name": "stdout",
     "output_type": "stream",
     "text": [
      "Clé primaire (0 doublon)\n"
     ]
    }
   ],
   "source": [
    "cle_primaire(transactions[['client_id', 'date']])#cette fois ci on a deux cle primaire pas un seul"
   ]
  },
  {
   "cell_type": "markdown",
   "id": "c5e83da7",
   "metadata": {},
   "source": [
    "# Remarque\n",
    "Nous aurons remarque que client_id et id_prod sont des clés etrangere vers clients et produits"
   ]
  },
  {
   "cell_type": "code",
   "execution_count": 55,
   "id": "6af57ff7",
   "metadata": {},
   "outputs": [],
   "source": [
    "# Comparaison d'un cle unique entre 2 dataFrame\n",
    "def compare_keys(variable, df1, df1_name, df2,df2_name):\n",
    "    # Projection de df1 sur la variable\n",
    "    df1_keys = pd.DataFrame(df1[variable].unique())\n",
    "    # df2 sur la variable\n",
    "    df2_keys = pd.DataFrame(df2[variable].unique())\n",
    "    \n",
    "    keys_1 = df1_keys.merge(df1_keys, how='outer', indicator=True).loc[lambda x:x['_merge']=='right_only']\n",
    "    print('Clés de', df2_name, 'non presentes dans', df1_name+':',len(keys_1))\n",
    "    \n",
    "    keys_2 = df2_keys.merge(df1_keys, how='outer', indicator=True).loc[lambda x: x['_merge']=='right_only']\n",
    "    print('cles de', df1_name,'non presentes dans ',df2_name+ ':' ,len(keys_2))"
   ]
  },
  {
   "cell_type": "code",
   "execution_count": 57,
   "id": "095b57e0",
   "metadata": {},
   "outputs": [
    {
     "name": "stdout",
     "output_type": "stream",
     "text": [
      "Clés de transactions non presentes dans clients: 0\n",
      "cles de clients non presentes dans  transactions: 21\n",
      "------------------------\n",
      "Clés de transactions non presentes dans produits: 0\n",
      "cles de produits non presentes dans  transactions: 22\n"
     ]
    }
   ],
   "source": [
    "compare_keys('client_id',clients,'clients',transactions,'transactions')\n",
    "print(\"-\"*24)\n",
    "\n",
    "compare_keys('id_prod', produits, 'produits', transactions,'transactions')"
   ]
  },
  {
   "cell_type": "code",
   "execution_count": 58,
   "id": "bfcaebf3",
   "metadata": {
    "scrolled": true
   },
   "outputs": [
    {
     "data": {
      "text/html": [
       "<div>\n",
       "<style scoped>\n",
       "    .dataframe tbody tr th:only-of-type {\n",
       "        vertical-align: middle;\n",
       "    }\n",
       "\n",
       "    .dataframe tbody tr th {\n",
       "        vertical-align: top;\n",
       "    }\n",
       "\n",
       "    .dataframe thead th {\n",
       "        text-align: right;\n",
       "    }\n",
       "</style>\n",
       "<table border=\"1\" class=\"dataframe\">\n",
       "  <thead>\n",
       "    <tr style=\"text-align: right;\">\n",
       "      <th></th>\n",
       "      <th>id_prod</th>\n",
       "      <th>date</th>\n",
       "      <th>session_id</th>\n",
       "      <th>client_id</th>\n",
       "    </tr>\n",
       "  </thead>\n",
       "  <tbody>\n",
       "    <tr>\n",
       "      <th>6235</th>\n",
       "      <td>0_2245</td>\n",
       "      <td>2021-06-17 03:03:12.668129</td>\n",
       "      <td>s_49705</td>\n",
       "      <td>c_1533</td>\n",
       "    </tr>\n",
       "    <tr>\n",
       "      <th>10802</th>\n",
       "      <td>0_2245</td>\n",
       "      <td>2021-06-16 05:53:01.627491</td>\n",
       "      <td>s_49323</td>\n",
       "      <td>c_7954</td>\n",
       "    </tr>\n",
       "    <tr>\n",
       "      <th>14051</th>\n",
       "      <td>0_2245</td>\n",
       "      <td>2021-11-24 17:35:59.911427</td>\n",
       "      <td>s_124474</td>\n",
       "      <td>c_5120</td>\n",
       "    </tr>\n",
       "    <tr>\n",
       "      <th>17486</th>\n",
       "      <td>0_2245</td>\n",
       "      <td>2022-02-28 18:08:49.875709</td>\n",
       "      <td>s_172304</td>\n",
       "      <td>c_4964</td>\n",
       "    </tr>\n",
       "    <tr>\n",
       "      <th>21078</th>\n",
       "      <td>0_2245</td>\n",
       "      <td>2021-03-01 00:09:29.301897</td>\n",
       "      <td>s_3</td>\n",
       "      <td>c_580</td>\n",
       "    </tr>\n",
       "    <tr>\n",
       "      <th>...</th>\n",
       "      <td>...</td>\n",
       "      <td>...</td>\n",
       "      <td>...</td>\n",
       "      <td>...</td>\n",
       "    </tr>\n",
       "    <tr>\n",
       "      <th>322710</th>\n",
       "      <td>0_2245</td>\n",
       "      <td>2021-04-06 19:59:19.462288</td>\n",
       "      <td>s_16936</td>\n",
       "      <td>c_4167</td>\n",
       "    </tr>\n",
       "    <tr>\n",
       "      <th>329417</th>\n",
       "      <td>0_2245</td>\n",
       "      <td>2021-03-30 23:29:02.347672</td>\n",
       "      <td>s_13738</td>\n",
       "      <td>c_7790</td>\n",
       "    </tr>\n",
       "    <tr>\n",
       "      <th>330490</th>\n",
       "      <td>0_2245</td>\n",
       "      <td>2021-12-03 14:14:40.444177</td>\n",
       "      <td>s_128815</td>\n",
       "      <td>c_6189</td>\n",
       "    </tr>\n",
       "    <tr>\n",
       "      <th>335531</th>\n",
       "      <td>0_2245</td>\n",
       "      <td>2021-04-27 18:58:47.703374</td>\n",
       "      <td>s_26624</td>\n",
       "      <td>c_1595</td>\n",
       "    </tr>\n",
       "    <tr>\n",
       "      <th>336220</th>\n",
       "      <td>0_2245</td>\n",
       "      <td>2021-05-01 03:35:03.146305</td>\n",
       "      <td>s_28235</td>\n",
       "      <td>c_5714</td>\n",
       "    </tr>\n",
       "  </tbody>\n",
       "</table>\n",
       "<p>103 rows × 4 columns</p>\n",
       "</div>"
      ],
      "text/plain": [
       "       id_prod                        date session_id client_id\n",
       "6235    0_2245  2021-06-17 03:03:12.668129    s_49705    c_1533\n",
       "10802   0_2245  2021-06-16 05:53:01.627491    s_49323    c_7954\n",
       "14051   0_2245  2021-11-24 17:35:59.911427   s_124474    c_5120\n",
       "17486   0_2245  2022-02-28 18:08:49.875709   s_172304    c_4964\n",
       "21078   0_2245  2021-03-01 00:09:29.301897        s_3     c_580\n",
       "...        ...                         ...        ...       ...\n",
       "322710  0_2245  2021-04-06 19:59:19.462288    s_16936    c_4167\n",
       "329417  0_2245  2021-03-30 23:29:02.347672    s_13738    c_7790\n",
       "330490  0_2245  2021-12-03 14:14:40.444177   s_128815    c_6189\n",
       "335531  0_2245  2021-04-27 18:58:47.703374    s_26624    c_1595\n",
       "336220  0_2245  2021-05-01 03:35:03.146305    s_28235    c_5714\n",
       "\n",
       "[103 rows x 4 columns]"
      ]
     },
     "execution_count": 58,
     "metadata": {},
     "output_type": "execute_result"
    }
   ],
   "source": [
    "# Cle de id_prod uniquement prensente dans transactions\n",
    "transactions.drop(transactions[transactions['id_prod'].isin(produits['id_prod'])].index)"
   ]
  },
  {
   "cell_type": "code",
   "execution_count": 79,
   "id": "436ed2f9",
   "metadata": {},
   "outputs": [
    {
     "name": "stdout",
     "output_type": "stream",
     "text": [
      "Clés de transactions non présentes dans clients :  0\n",
      "Clés de clients non présentes dans transactions :  21\n",
      "- - - - - - - - - - - - - - - - - - - - - - - - \n",
      "Clés de transactions non présentes dans produits :  1\n",
      "Clés de produits non présentes dans transactions :  22\n"
     ]
    }
   ],
   "source": [
    "compare_keys('client_id', clients, 'clients', transactions, 'transactions') # Comparaison de 'client_id' entre transactions et clients\n",
    "print('- ' * 24)\n",
    "compare_keys('id_prod', produits, 'produits', transactions, 'transactions') # Comparaison de la clé 'id_prod' entre transactions et produits\n"
   ]
  },
  {
   "cell_type": "code",
   "execution_count": 59,
   "id": "f8b2054d",
   "metadata": {},
   "outputs": [
    {
     "data": {
      "text/html": [
       "<div>\n",
       "<style scoped>\n",
       "    .dataframe tbody tr th:only-of-type {\n",
       "        vertical-align: middle;\n",
       "    }\n",
       "\n",
       "    .dataframe tbody tr th {\n",
       "        vertical-align: top;\n",
       "    }\n",
       "\n",
       "    .dataframe thead th {\n",
       "        text-align: right;\n",
       "    }\n",
       "</style>\n",
       "<table border=\"1\" class=\"dataframe\">\n",
       "  <thead>\n",
       "    <tr style=\"text-align: right;\">\n",
       "      <th></th>\n",
       "      <th>id_prod</th>\n",
       "      <th>date</th>\n",
       "      <th>session_id</th>\n",
       "      <th>client_id</th>\n",
       "    </tr>\n",
       "  </thead>\n",
       "  <tbody>\n",
       "    <tr>\n",
       "      <th>count</th>\n",
       "      <td>336890</td>\n",
       "      <td>336890</td>\n",
       "      <td>336890</td>\n",
       "      <td>336890</td>\n",
       "    </tr>\n",
       "    <tr>\n",
       "      <th>unique</th>\n",
       "      <td>3266</td>\n",
       "      <td>336855</td>\n",
       "      <td>169195</td>\n",
       "      <td>8602</td>\n",
       "    </tr>\n",
       "    <tr>\n",
       "      <th>top</th>\n",
       "      <td>1_369</td>\n",
       "      <td>test_2021-03-01 02:30:02.237422</td>\n",
       "      <td>s_0</td>\n",
       "      <td>c_1609</td>\n",
       "    </tr>\n",
       "    <tr>\n",
       "      <th>freq</th>\n",
       "      <td>1081</td>\n",
       "      <td>2</td>\n",
       "      <td>74</td>\n",
       "      <td>12855</td>\n",
       "    </tr>\n",
       "  </tbody>\n",
       "</table>\n",
       "</div>"
      ],
      "text/plain": [
       "       id_prod                             date session_id client_id\n",
       "count   336890                           336890     336890    336890\n",
       "unique    3266                           336855     169195      8602\n",
       "top      1_369  test_2021-03-01 02:30:02.237422        s_0    c_1609\n",
       "freq      1081                                2         74     12855"
      ]
     },
     "execution_count": 59,
     "metadata": {},
     "output_type": "execute_result"
    }
   ],
   "source": [
    "transactions.describe(include='all') # Indicateurs statistiques"
   ]
  },
  {
   "cell_type": "markdown",
   "id": "13329805",
   "metadata": {},
   "source": [
    "La table ne contient aucune valeur manquante, mais comme aperçu dans les indicateurs, la variable 'date' affiche 74 valeurs aberrantes ayant pour préfixe test_. Ces 74 individus concernent le produit au prix négatif (T_0), ainsi que des identifiants de session et de clients uniques là aussi."
   ]
  },
  {
   "cell_type": "code",
   "execution_count": 63,
   "id": "18d3b7cd",
   "metadata": {},
   "outputs": [
    {
     "data": {
      "text/html": [
       "<div>\n",
       "<style scoped>\n",
       "    .dataframe tbody tr th:only-of-type {\n",
       "        vertical-align: middle;\n",
       "    }\n",
       "\n",
       "    .dataframe tbody tr th {\n",
       "        vertical-align: top;\n",
       "    }\n",
       "\n",
       "    .dataframe thead th {\n",
       "        text-align: right;\n",
       "    }\n",
       "</style>\n",
       "<table border=\"1\" class=\"dataframe\">\n",
       "  <thead>\n",
       "    <tr style=\"text-align: right;\">\n",
       "      <th></th>\n",
       "      <th>index</th>\n",
       "      <th>id_prod</th>\n",
       "      <th>date</th>\n",
       "      <th>session_id</th>\n",
       "      <th>client_id</th>\n",
       "    </tr>\n",
       "  </thead>\n",
       "  <tbody>\n",
       "    <tr>\n",
       "      <th>0</th>\n",
       "      <td>38779</td>\n",
       "      <td>T_0</td>\n",
       "      <td>test_2021-03-01 02:30:02.237450</td>\n",
       "      <td>s_0</td>\n",
       "      <td>ct_0</td>\n",
       "    </tr>\n",
       "    <tr>\n",
       "      <th>1</th>\n",
       "      <td>203239</td>\n",
       "      <td>T_0</td>\n",
       "      <td>test_2021-03-01 02:30:02.237449</td>\n",
       "      <td>s_0</td>\n",
       "      <td>ct_0</td>\n",
       "    </tr>\n",
       "    <tr>\n",
       "      <th>2</th>\n",
       "      <td>245346</td>\n",
       "      <td>T_0</td>\n",
       "      <td>test_2021-03-01 02:30:02.237449</td>\n",
       "      <td>s_0</td>\n",
       "      <td>ct_1</td>\n",
       "    </tr>\n",
       "    <tr>\n",
       "      <th>3</th>\n",
       "      <td>317345</td>\n",
       "      <td>T_0</td>\n",
       "      <td>test_2021-03-01 02:30:02.237448</td>\n",
       "      <td>s_0</td>\n",
       "      <td>ct_0</td>\n",
       "    </tr>\n",
       "    <tr>\n",
       "      <th>4</th>\n",
       "      <td>26814</td>\n",
       "      <td>T_0</td>\n",
       "      <td>test_2021-03-01 02:30:02.237447</td>\n",
       "      <td>s_0</td>\n",
       "      <td>ct_1</td>\n",
       "    </tr>\n",
       "    <tr>\n",
       "      <th>...</th>\n",
       "      <td>...</td>\n",
       "      <td>...</td>\n",
       "      <td>...</td>\n",
       "      <td>...</td>\n",
       "      <td>...</td>\n",
       "    </tr>\n",
       "    <tr>\n",
       "      <th>70</th>\n",
       "      <td>57755</td>\n",
       "      <td>T_0</td>\n",
       "      <td>test_2021-03-01 02:30:02.237413</td>\n",
       "      <td>s_0</td>\n",
       "      <td>ct_1</td>\n",
       "    </tr>\n",
       "    <tr>\n",
       "      <th>71</th>\n",
       "      <td>59043</td>\n",
       "      <td>T_0</td>\n",
       "      <td>test_2021-03-01 02:30:02.237413</td>\n",
       "      <td>s_0</td>\n",
       "      <td>ct_0</td>\n",
       "    </tr>\n",
       "    <tr>\n",
       "      <th>72</th>\n",
       "      <td>133443</td>\n",
       "      <td>T_0</td>\n",
       "      <td>test_2021-03-01 02:30:02.237412</td>\n",
       "      <td>s_0</td>\n",
       "      <td>ct_0</td>\n",
       "    </tr>\n",
       "    <tr>\n",
       "      <th>73</th>\n",
       "      <td>22347</td>\n",
       "      <td>T_0</td>\n",
       "      <td>test_2021-03-01 02:30:02.237412</td>\n",
       "      <td>s_0</td>\n",
       "      <td>ct_1</td>\n",
       "    </tr>\n",
       "    <tr>\n",
       "      <th>74</th>\n",
       "      <td>79892</td>\n",
       "      <td>0_1775</td>\n",
       "      <td>2022-02-28 23:59:58.040472</td>\n",
       "      <td>s_172423</td>\n",
       "      <td>c_1460</td>\n",
       "    </tr>\n",
       "  </tbody>\n",
       "</table>\n",
       "<p>75 rows × 5 columns</p>\n",
       "</div>"
      ],
      "text/plain": [
       "     index id_prod                             date session_id client_id\n",
       "0    38779     T_0  test_2021-03-01 02:30:02.237450        s_0      ct_0\n",
       "1   203239     T_0  test_2021-03-01 02:30:02.237449        s_0      ct_0\n",
       "2   245346     T_0  test_2021-03-01 02:30:02.237449        s_0      ct_1\n",
       "3   317345     T_0  test_2021-03-01 02:30:02.237448        s_0      ct_0\n",
       "4    26814     T_0  test_2021-03-01 02:30:02.237447        s_0      ct_1\n",
       "..     ...     ...                              ...        ...       ...\n",
       "70   57755     T_0  test_2021-03-01 02:30:02.237413        s_0      ct_1\n",
       "71   59043     T_0  test_2021-03-01 02:30:02.237413        s_0      ct_0\n",
       "72  133443     T_0  test_2021-03-01 02:30:02.237412        s_0      ct_0\n",
       "73   22347     T_0  test_2021-03-01 02:30:02.237412        s_0      ct_1\n",
       "74   79892  0_1775       2022-02-28 23:59:58.040472   s_172423    c_1460\n",
       "\n",
       "[75 rows x 5 columns]"
      ]
     },
     "execution_count": 63,
     "metadata": {},
     "output_type": "execute_result"
    }
   ],
   "source": [
    "transactions_test = transactions.sort_values(by='date', ascending=False).head(75).reset_index() # Les 75 premiers individus triés par date\n",
    "transactions_test"
   ]
  },
  {
   "cell_type": "code",
   "execution_count": 64,
   "id": "e54de789",
   "metadata": {},
   "outputs": [
    {
     "name": "stdout",
     "output_type": "stream",
     "text": [
      "75 lignes tests : \n",
      "- 'id_prod' unique : ['T_0' '0_1775'] \n",
      "- 'session_id' unique : ['s_0' 's_172423'] \n",
      "- 'client_id' uniques : ['ct_0' 'ct_1' 'c_1460']\n"
     ]
    }
   ],
   "source": [
    "tansactions_test = transactions_test.loc[:73]\n",
    "\n",
    "print( # Affichage des clés uniques des lignes de test \n",
    "    len(transactions_test), 'lignes tests :',\n",
    "    '\\n- \\'id_prod\\' unique :', transactions_test['id_prod'].unique(),\n",
    "    '\\n- \\'session_id\\' unique :', transactions_test['session_id'].unique(),\n",
    "    '\\n- \\'client_id\\' uniques :', transactions_test['client_id'].unique())\n"
   ]
  },
  {
   "cell_type": "code",
   "execution_count": 65,
   "id": "3a6dc6ea",
   "metadata": {},
   "outputs": [
    {
     "name": "stdout",
     "output_type": "stream",
     "text": [
      "<class 'pandas.core.frame.DataFrame'>\n",
      "Int64Index: 336890 entries, 0 to 337015\n",
      "Data columns (total 4 columns):\n",
      " #   Column      Non-Null Count   Dtype \n",
      "---  ------      --------------   ----- \n",
      " 0   id_prod     336890 non-null  object\n",
      " 1   date        336890 non-null  object\n",
      " 2   session_id  336890 non-null  object\n",
      " 3   client_id   336890 non-null  object\n",
      "dtypes: object(4)\n",
      "memory usage: 20.9+ MB\n"
     ]
    }
   ],
   "source": [
    "transactions.info()"
   ]
  },
  {
   "cell_type": "markdown",
   "id": "43bba0d8",
   "metadata": {},
   "source": [
    "# Jointures\n",
    "On effectue la jointure de transactions successivement sur Clients\n",
    "et produits, en ne conservant que les clés de transactions(les clinets inactifs et les produits invendus sont ecartes)\n",
    "la clé primaire reste celle de transactions: 'date' + 'client_id'.\n"
   ]
  },
  {
   "cell_type": "code",
   "execution_count": 66,
   "id": "06b209b4",
   "metadata": {},
   "outputs": [
    {
     "data": {
      "text/html": [
       "<div>\n",
       "<style scoped>\n",
       "    .dataframe tbody tr th:only-of-type {\n",
       "        vertical-align: middle;\n",
       "    }\n",
       "\n",
       "    .dataframe tbody tr th {\n",
       "        vertical-align: top;\n",
       "    }\n",
       "\n",
       "    .dataframe thead th {\n",
       "        text-align: right;\n",
       "    }\n",
       "</style>\n",
       "<table border=\"1\" class=\"dataframe\">\n",
       "  <thead>\n",
       "    <tr style=\"text-align: right;\">\n",
       "      <th></th>\n",
       "      <th>id_prod</th>\n",
       "      <th>date</th>\n",
       "      <th>session_id</th>\n",
       "      <th>client_id</th>\n",
       "      <th>sex</th>\n",
       "      <th>birth</th>\n",
       "      <th>price</th>\n",
       "      <th>categ</th>\n",
       "    </tr>\n",
       "  </thead>\n",
       "  <tbody>\n",
       "    <tr>\n",
       "      <th>0</th>\n",
       "      <td>0_1483</td>\n",
       "      <td>2021-04-10 18:37:28.723910</td>\n",
       "      <td>s_18746</td>\n",
       "      <td>c_4450</td>\n",
       "      <td>f</td>\n",
       "      <td>1977</td>\n",
       "      <td>4.99</td>\n",
       "      <td>0.00</td>\n",
       "    </tr>\n",
       "    <tr>\n",
       "      <th>1</th>\n",
       "      <td>2_226</td>\n",
       "      <td>2022-02-03 01:55:53.276402</td>\n",
       "      <td>s_159142</td>\n",
       "      <td>c_277</td>\n",
       "      <td>f</td>\n",
       "      <td>2000</td>\n",
       "      <td>65.75</td>\n",
       "      <td>2.00</td>\n",
       "    </tr>\n",
       "    <tr>\n",
       "      <th>2</th>\n",
       "      <td>1_374</td>\n",
       "      <td>2021-09-23 15:13:46.938559</td>\n",
       "      <td>s_94290</td>\n",
       "      <td>c_4270</td>\n",
       "      <td>f</td>\n",
       "      <td>1979</td>\n",
       "      <td>10.71</td>\n",
       "      <td>1.00</td>\n",
       "    </tr>\n",
       "    <tr>\n",
       "      <th>3</th>\n",
       "      <td>0_2186</td>\n",
       "      <td>2021-10-17 03:27:18.783634</td>\n",
       "      <td>s_105936</td>\n",
       "      <td>c_4597</td>\n",
       "      <td>m</td>\n",
       "      <td>1963</td>\n",
       "      <td>4.20</td>\n",
       "      <td>0.00</td>\n",
       "    </tr>\n",
       "    <tr>\n",
       "      <th>4</th>\n",
       "      <td>0_1351</td>\n",
       "      <td>2021-07-17 20:34:25.800563</td>\n",
       "      <td>s_63642</td>\n",
       "      <td>c_1242</td>\n",
       "      <td>f</td>\n",
       "      <td>1980</td>\n",
       "      <td>8.99</td>\n",
       "      <td>0.00</td>\n",
       "    </tr>\n",
       "    <tr>\n",
       "      <th>...</th>\n",
       "      <td>...</td>\n",
       "      <td>...</td>\n",
       "      <td>...</td>\n",
       "      <td>...</td>\n",
       "      <td>...</td>\n",
       "      <td>...</td>\n",
       "      <td>...</td>\n",
       "      <td>...</td>\n",
       "    </tr>\n",
       "    <tr>\n",
       "      <th>336885</th>\n",
       "      <td>1_671</td>\n",
       "      <td>2021-05-28 12:35:46.214839</td>\n",
       "      <td>s_40720</td>\n",
       "      <td>c_3454</td>\n",
       "      <td>m</td>\n",
       "      <td>1969</td>\n",
       "      <td>31.99</td>\n",
       "      <td>1.00</td>\n",
       "    </tr>\n",
       "    <tr>\n",
       "      <th>336886</th>\n",
       "      <td>0_759</td>\n",
       "      <td>2021-06-19 00:19:23.917703</td>\n",
       "      <td>s_50568</td>\n",
       "      <td>c_6268</td>\n",
       "      <td>m</td>\n",
       "      <td>1991</td>\n",
       "      <td>22.99</td>\n",
       "      <td>0.00</td>\n",
       "    </tr>\n",
       "    <tr>\n",
       "      <th>336887</th>\n",
       "      <td>0_1256</td>\n",
       "      <td>2021-03-16 17:31:59.442007</td>\n",
       "      <td>s_7219</td>\n",
       "      <td>c_4137</td>\n",
       "      <td>f</td>\n",
       "      <td>1968</td>\n",
       "      <td>11.03</td>\n",
       "      <td>0.00</td>\n",
       "    </tr>\n",
       "    <tr>\n",
       "      <th>336888</th>\n",
       "      <td>2_227</td>\n",
       "      <td>2021-10-30 16:50:15.997750</td>\n",
       "      <td>s_112349</td>\n",
       "      <td>c_5</td>\n",
       "      <td>f</td>\n",
       "      <td>1994</td>\n",
       "      <td>50.99</td>\n",
       "      <td>2.00</td>\n",
       "    </tr>\n",
       "    <tr>\n",
       "      <th>336889</th>\n",
       "      <td>0_1417</td>\n",
       "      <td>2021-06-26 14:38:19.732946</td>\n",
       "      <td>s_54117</td>\n",
       "      <td>c_6714</td>\n",
       "      <td>f</td>\n",
       "      <td>1968</td>\n",
       "      <td>17.99</td>\n",
       "      <td>0.00</td>\n",
       "    </tr>\n",
       "  </tbody>\n",
       "</table>\n",
       "<p>336890 rows × 8 columns</p>\n",
       "</div>"
      ],
      "text/plain": [
       "       id_prod                        date session_id client_id sex  birth  \\\n",
       "0       0_1483  2021-04-10 18:37:28.723910    s_18746    c_4450   f   1977   \n",
       "1        2_226  2022-02-03 01:55:53.276402   s_159142     c_277   f   2000   \n",
       "2        1_374  2021-09-23 15:13:46.938559    s_94290    c_4270   f   1979   \n",
       "3       0_2186  2021-10-17 03:27:18.783634   s_105936    c_4597   m   1963   \n",
       "4       0_1351  2021-07-17 20:34:25.800563    s_63642    c_1242   f   1980   \n",
       "...        ...                         ...        ...       ...  ..    ...   \n",
       "336885   1_671  2021-05-28 12:35:46.214839    s_40720    c_3454   m   1969   \n",
       "336886   0_759  2021-06-19 00:19:23.917703    s_50568    c_6268   m   1991   \n",
       "336887  0_1256  2021-03-16 17:31:59.442007     s_7219    c_4137   f   1968   \n",
       "336888   2_227  2021-10-30 16:50:15.997750   s_112349       c_5   f   1994   \n",
       "336889  0_1417  2021-06-26 14:38:19.732946    s_54117    c_6714   f   1968   \n",
       "\n",
       "        price  categ  \n",
       "0        4.99   0.00  \n",
       "1       65.75   2.00  \n",
       "2       10.71   1.00  \n",
       "3        4.20   0.00  \n",
       "4        8.99   0.00  \n",
       "...       ...    ...  \n",
       "336885  31.99   1.00  \n",
       "336886  22.99   0.00  \n",
       "336887  11.03   0.00  \n",
       "336888  50.99   2.00  \n",
       "336889  17.99   0.00  \n",
       "\n",
       "[336890 rows x 8 columns]"
      ]
     },
     "execution_count": 66,
     "metadata": {},
     "output_type": "execute_result"
    }
   ],
   "source": [
    "df = transactions.merge(clients, how='left', on='client_id').merge(produits, how='left', on='id_prod') # Jointures\n",
    "df"
   ]
  },
  {
   "cell_type": "code",
   "execution_count": 68,
   "id": "62d5f284",
   "metadata": {},
   "outputs": [
    {
     "name": "stdout",
     "output_type": "stream",
     "text": [
      "Clé primaire (0 doublon)\n"
     ]
    }
   ],
   "source": [
    "cle_primaire(df[['client_id','date']])"
   ]
  },
  {
   "cell_type": "code",
   "execution_count": 69,
   "id": "5e9d35cc",
   "metadata": {},
   "outputs": [
    {
     "name": "stdout",
     "output_type": "stream",
     "text": [
      "<class 'pandas.core.frame.DataFrame'>\n",
      "Int64Index: 336890 entries, 0 to 336889\n",
      "Data columns (total 8 columns):\n",
      " #   Column      Non-Null Count   Dtype  \n",
      "---  ------      --------------   -----  \n",
      " 0   id_prod     336890 non-null  object \n",
      " 1   date        336890 non-null  object \n",
      " 2   session_id  336890 non-null  object \n",
      " 3   client_id   336890 non-null  object \n",
      " 4   sex         336890 non-null  object \n",
      " 5   birth       336890 non-null  int64  \n",
      " 6   price       336787 non-null  float64\n",
      " 7   categ       336787 non-null  float64\n",
      "dtypes: float64(2), int64(1), object(5)\n",
      "memory usage: 23.1+ MB\n"
     ]
    }
   ],
   "source": [
    "df.info()"
   ]
  },
  {
   "cell_type": "code",
   "execution_count": 70,
   "id": "3cd04eda",
   "metadata": {},
   "outputs": [
    {
     "data": {
      "text/html": [
       "<div>\n",
       "<style scoped>\n",
       "    .dataframe tbody tr th:only-of-type {\n",
       "        vertical-align: middle;\n",
       "    }\n",
       "\n",
       "    .dataframe tbody tr th {\n",
       "        vertical-align: top;\n",
       "    }\n",
       "\n",
       "    .dataframe thead th {\n",
       "        text-align: right;\n",
       "    }\n",
       "</style>\n",
       "<table border=\"1\" class=\"dataframe\">\n",
       "  <thead>\n",
       "    <tr style=\"text-align: right;\">\n",
       "      <th></th>\n",
       "      <th>id_prod</th>\n",
       "      <th>date</th>\n",
       "      <th>session_id</th>\n",
       "      <th>client_id</th>\n",
       "      <th>sex</th>\n",
       "      <th>birth</th>\n",
       "      <th>price</th>\n",
       "      <th>categ</th>\n",
       "    </tr>\n",
       "  </thead>\n",
       "  <tbody>\n",
       "    <tr>\n",
       "      <th>6235</th>\n",
       "      <td>0_2245</td>\n",
       "      <td>2021-06-17 03:03:12.668129</td>\n",
       "      <td>s_49705</td>\n",
       "      <td>c_1533</td>\n",
       "      <td>m</td>\n",
       "      <td>1972</td>\n",
       "      <td>NaN</td>\n",
       "      <td>NaN</td>\n",
       "    </tr>\n",
       "    <tr>\n",
       "      <th>10802</th>\n",
       "      <td>0_2245</td>\n",
       "      <td>2021-06-16 05:53:01.627491</td>\n",
       "      <td>s_49323</td>\n",
       "      <td>c_7954</td>\n",
       "      <td>m</td>\n",
       "      <td>1973</td>\n",
       "      <td>NaN</td>\n",
       "      <td>NaN</td>\n",
       "    </tr>\n",
       "    <tr>\n",
       "      <th>14051</th>\n",
       "      <td>0_2245</td>\n",
       "      <td>2021-11-24 17:35:59.911427</td>\n",
       "      <td>s_124474</td>\n",
       "      <td>c_5120</td>\n",
       "      <td>f</td>\n",
       "      <td>1975</td>\n",
       "      <td>NaN</td>\n",
       "      <td>NaN</td>\n",
       "    </tr>\n",
       "    <tr>\n",
       "      <th>17486</th>\n",
       "      <td>0_2245</td>\n",
       "      <td>2022-02-28 18:08:49.875709</td>\n",
       "      <td>s_172304</td>\n",
       "      <td>c_4964</td>\n",
       "      <td>f</td>\n",
       "      <td>1982</td>\n",
       "      <td>NaN</td>\n",
       "      <td>NaN</td>\n",
       "    </tr>\n",
       "    <tr>\n",
       "      <th>21078</th>\n",
       "      <td>0_2245</td>\n",
       "      <td>2021-03-01 00:09:29.301897</td>\n",
       "      <td>s_3</td>\n",
       "      <td>c_580</td>\n",
       "      <td>m</td>\n",
       "      <td>1988</td>\n",
       "      <td>NaN</td>\n",
       "      <td>NaN</td>\n",
       "    </tr>\n",
       "    <tr>\n",
       "      <th>...</th>\n",
       "      <td>...</td>\n",
       "      <td>...</td>\n",
       "      <td>...</td>\n",
       "      <td>...</td>\n",
       "      <td>...</td>\n",
       "      <td>...</td>\n",
       "      <td>...</td>\n",
       "      <td>...</td>\n",
       "    </tr>\n",
       "    <tr>\n",
       "      <th>322597</th>\n",
       "      <td>0_2245</td>\n",
       "      <td>2021-04-06 19:59:19.462288</td>\n",
       "      <td>s_16936</td>\n",
       "      <td>c_4167</td>\n",
       "      <td>f</td>\n",
       "      <td>1979</td>\n",
       "      <td>NaN</td>\n",
       "      <td>NaN</td>\n",
       "    </tr>\n",
       "    <tr>\n",
       "      <th>329300</th>\n",
       "      <td>0_2245</td>\n",
       "      <td>2021-03-30 23:29:02.347672</td>\n",
       "      <td>s_13738</td>\n",
       "      <td>c_7790</td>\n",
       "      <td>f</td>\n",
       "      <td>1983</td>\n",
       "      <td>NaN</td>\n",
       "      <td>NaN</td>\n",
       "    </tr>\n",
       "    <tr>\n",
       "      <th>330371</th>\n",
       "      <td>0_2245</td>\n",
       "      <td>2021-12-03 14:14:40.444177</td>\n",
       "      <td>s_128815</td>\n",
       "      <td>c_6189</td>\n",
       "      <td>f</td>\n",
       "      <td>1984</td>\n",
       "      <td>NaN</td>\n",
       "      <td>NaN</td>\n",
       "    </tr>\n",
       "    <tr>\n",
       "      <th>335405</th>\n",
       "      <td>0_2245</td>\n",
       "      <td>2021-04-27 18:58:47.703374</td>\n",
       "      <td>s_26624</td>\n",
       "      <td>c_1595</td>\n",
       "      <td>f</td>\n",
       "      <td>1973</td>\n",
       "      <td>NaN</td>\n",
       "      <td>NaN</td>\n",
       "    </tr>\n",
       "    <tr>\n",
       "      <th>336094</th>\n",
       "      <td>0_2245</td>\n",
       "      <td>2021-05-01 03:35:03.146305</td>\n",
       "      <td>s_28235</td>\n",
       "      <td>c_5714</td>\n",
       "      <td>f</td>\n",
       "      <td>1972</td>\n",
       "      <td>NaN</td>\n",
       "      <td>NaN</td>\n",
       "    </tr>\n",
       "  </tbody>\n",
       "</table>\n",
       "<p>103 rows × 8 columns</p>\n",
       "</div>"
      ],
      "text/plain": [
       "       id_prod                        date session_id client_id sex  birth  \\\n",
       "6235    0_2245  2021-06-17 03:03:12.668129    s_49705    c_1533   m   1972   \n",
       "10802   0_2245  2021-06-16 05:53:01.627491    s_49323    c_7954   m   1973   \n",
       "14051   0_2245  2021-11-24 17:35:59.911427   s_124474    c_5120   f   1975   \n",
       "17486   0_2245  2022-02-28 18:08:49.875709   s_172304    c_4964   f   1982   \n",
       "21078   0_2245  2021-03-01 00:09:29.301897        s_3     c_580   m   1988   \n",
       "...        ...                         ...        ...       ...  ..    ...   \n",
       "322597  0_2245  2021-04-06 19:59:19.462288    s_16936    c_4167   f   1979   \n",
       "329300  0_2245  2021-03-30 23:29:02.347672    s_13738    c_7790   f   1983   \n",
       "330371  0_2245  2021-12-03 14:14:40.444177   s_128815    c_6189   f   1984   \n",
       "335405  0_2245  2021-04-27 18:58:47.703374    s_26624    c_1595   f   1973   \n",
       "336094  0_2245  2021-05-01 03:35:03.146305    s_28235    c_5714   f   1972   \n",
       "\n",
       "        price  categ  \n",
       "6235      NaN    NaN  \n",
       "10802     NaN    NaN  \n",
       "14051     NaN    NaN  \n",
       "17486     NaN    NaN  \n",
       "21078     NaN    NaN  \n",
       "...       ...    ...  \n",
       "322597    NaN    NaN  \n",
       "329300    NaN    NaN  \n",
       "330371    NaN    NaN  \n",
       "335405    NaN    NaN  \n",
       "336094    NaN    NaN  \n",
       "\n",
       "[103 rows x 8 columns]"
      ]
     },
     "execution_count": 70,
     "metadata": {},
     "output_type": "execute_result"
    }
   ],
   "source": [
    "df[(df['price'].isnull()) & (df['categ'].isnull())] # Indi"
   ]
  },
  {
   "cell_type": "markdown",
   "id": "099b5188",
   "metadata": {},
   "source": [
    "# Nettoyage\n",
    "## Lignes tests\n",
    "Avant de pouvoir convertir la variable 'date' en datetime, il faut supprimer les lignes de test, vu qu'elles partagent notamment le prefix en date"
   ]
  },
  {
   "cell_type": "code",
   "execution_count": 71,
   "id": "8bd96f12",
   "metadata": {},
   "outputs": [
    {
     "data": {
      "text/html": [
       "<div>\n",
       "<style scoped>\n",
       "    .dataframe tbody tr th:only-of-type {\n",
       "        vertical-align: middle;\n",
       "    }\n",
       "\n",
       "    .dataframe tbody tr th {\n",
       "        vertical-align: top;\n",
       "    }\n",
       "\n",
       "    .dataframe thead th {\n",
       "        text-align: right;\n",
       "    }\n",
       "</style>\n",
       "<table border=\"1\" class=\"dataframe\">\n",
       "  <thead>\n",
       "    <tr style=\"text-align: right;\">\n",
       "      <th></th>\n",
       "      <th>id_prod</th>\n",
       "      <th>date</th>\n",
       "      <th>session_id</th>\n",
       "      <th>client_id</th>\n",
       "      <th>sex</th>\n",
       "      <th>birth</th>\n",
       "      <th>price</th>\n",
       "      <th>categ</th>\n",
       "    </tr>\n",
       "  </thead>\n",
       "  <tbody>\n",
       "    <tr>\n",
       "      <th>1431</th>\n",
       "      <td>T_0</td>\n",
       "      <td>test_2021-03-01 02:30:02.237420</td>\n",
       "      <td>s_0</td>\n",
       "      <td>ct_1</td>\n",
       "      <td>m</td>\n",
       "      <td>2001</td>\n",
       "      <td>-1.00</td>\n",
       "      <td>0.00</td>\n",
       "    </tr>\n",
       "    <tr>\n",
       "      <th>2365</th>\n",
       "      <td>T_0</td>\n",
       "      <td>test_2021-03-01 02:30:02.237446</td>\n",
       "      <td>s_0</td>\n",
       "      <td>ct_1</td>\n",
       "      <td>m</td>\n",
       "      <td>2001</td>\n",
       "      <td>-1.00</td>\n",
       "      <td>0.00</td>\n",
       "    </tr>\n",
       "    <tr>\n",
       "      <th>2895</th>\n",
       "      <td>T_0</td>\n",
       "      <td>test_2021-03-01 02:30:02.237414</td>\n",
       "      <td>s_0</td>\n",
       "      <td>ct_1</td>\n",
       "      <td>m</td>\n",
       "      <td>2001</td>\n",
       "      <td>-1.00</td>\n",
       "      <td>0.00</td>\n",
       "    </tr>\n",
       "    <tr>\n",
       "      <th>5955</th>\n",
       "      <td>T_0</td>\n",
       "      <td>test_2021-03-01 02:30:02.237441</td>\n",
       "      <td>s_0</td>\n",
       "      <td>ct_0</td>\n",
       "      <td>f</td>\n",
       "      <td>2001</td>\n",
       "      <td>-1.00</td>\n",
       "      <td>0.00</td>\n",
       "    </tr>\n",
       "    <tr>\n",
       "      <th>7283</th>\n",
       "      <td>T_0</td>\n",
       "      <td>test_2021-03-01 02:30:02.237434</td>\n",
       "      <td>s_0</td>\n",
       "      <td>ct_1</td>\n",
       "      <td>m</td>\n",
       "      <td>2001</td>\n",
       "      <td>-1.00</td>\n",
       "      <td>0.00</td>\n",
       "    </tr>\n",
       "    <tr>\n",
       "      <th>...</th>\n",
       "      <td>...</td>\n",
       "      <td>...</td>\n",
       "      <td>...</td>\n",
       "      <td>...</td>\n",
       "      <td>...</td>\n",
       "      <td>...</td>\n",
       "      <td>...</td>\n",
       "      <td>...</td>\n",
       "    </tr>\n",
       "    <tr>\n",
       "      <th>264229</th>\n",
       "      <td>T_0</td>\n",
       "      <td>test_2021-03-01 02:30:02.237416</td>\n",
       "      <td>s_0</td>\n",
       "      <td>ct_1</td>\n",
       "      <td>m</td>\n",
       "      <td>2001</td>\n",
       "      <td>-1.00</td>\n",
       "      <td>0.00</td>\n",
       "    </tr>\n",
       "    <tr>\n",
       "      <th>288815</th>\n",
       "      <td>T_0</td>\n",
       "      <td>test_2021-03-01 02:30:02.237415</td>\n",
       "      <td>s_0</td>\n",
       "      <td>ct_1</td>\n",
       "      <td>m</td>\n",
       "      <td>2001</td>\n",
       "      <td>-1.00</td>\n",
       "      <td>0.00</td>\n",
       "    </tr>\n",
       "    <tr>\n",
       "      <th>293003</th>\n",
       "      <td>T_0</td>\n",
       "      <td>test_2021-03-01 02:30:02.237421</td>\n",
       "      <td>s_0</td>\n",
       "      <td>ct_0</td>\n",
       "      <td>f</td>\n",
       "      <td>2001</td>\n",
       "      <td>-1.00</td>\n",
       "      <td>0.00</td>\n",
       "    </tr>\n",
       "    <tr>\n",
       "      <th>298292</th>\n",
       "      <td>T_0</td>\n",
       "      <td>test_2021-03-01 02:30:02.237423</td>\n",
       "      <td>s_0</td>\n",
       "      <td>ct_1</td>\n",
       "      <td>m</td>\n",
       "      <td>2001</td>\n",
       "      <td>-1.00</td>\n",
       "      <td>0.00</td>\n",
       "    </tr>\n",
       "    <tr>\n",
       "      <th>317233</th>\n",
       "      <td>T_0</td>\n",
       "      <td>test_2021-03-01 02:30:02.237448</td>\n",
       "      <td>s_0</td>\n",
       "      <td>ct_0</td>\n",
       "      <td>f</td>\n",
       "      <td>2001</td>\n",
       "      <td>-1.00</td>\n",
       "      <td>0.00</td>\n",
       "    </tr>\n",
       "  </tbody>\n",
       "</table>\n",
       "<p>74 rows × 8 columns</p>\n",
       "</div>"
      ],
      "text/plain": [
       "       id_prod                             date session_id client_id sex  \\\n",
       "1431       T_0  test_2021-03-01 02:30:02.237420        s_0      ct_1   m   \n",
       "2365       T_0  test_2021-03-01 02:30:02.237446        s_0      ct_1   m   \n",
       "2895       T_0  test_2021-03-01 02:30:02.237414        s_0      ct_1   m   \n",
       "5955       T_0  test_2021-03-01 02:30:02.237441        s_0      ct_0   f   \n",
       "7283       T_0  test_2021-03-01 02:30:02.237434        s_0      ct_1   m   \n",
       "...        ...                              ...        ...       ...  ..   \n",
       "264229     T_0  test_2021-03-01 02:30:02.237416        s_0      ct_1   m   \n",
       "288815     T_0  test_2021-03-01 02:30:02.237415        s_0      ct_1   m   \n",
       "293003     T_0  test_2021-03-01 02:30:02.237421        s_0      ct_0   f   \n",
       "298292     T_0  test_2021-03-01 02:30:02.237423        s_0      ct_1   m   \n",
       "317233     T_0  test_2021-03-01 02:30:02.237448        s_0      ct_0   f   \n",
       "\n",
       "        birth  price  categ  \n",
       "1431     2001  -1.00   0.00  \n",
       "2365     2001  -1.00   0.00  \n",
       "2895     2001  -1.00   0.00  \n",
       "5955     2001  -1.00   0.00  \n",
       "7283     2001  -1.00   0.00  \n",
       "...       ...    ...    ...  \n",
       "264229   2001  -1.00   0.00  \n",
       "288815   2001  -1.00   0.00  \n",
       "293003   2001  -1.00   0.00  \n",
       "298292   2001  -1.00   0.00  \n",
       "317233   2001  -1.00   0.00  \n",
       "\n",
       "[74 rows x 8 columns]"
      ]
     },
     "execution_count": 71,
     "metadata": {},
     "output_type": "execute_result"
    }
   ],
   "source": [
    "lignes_test = df[ # Échantillon des lignes de test\n",
    "    (df['date'].str.contains('test_')) &\n",
    "    (df['price']<=0) &\n",
    "    (df['id_prod']=='T_0') &  \n",
    "    (df['session_id']=='s_0')]\n",
    "lignes_test\n"
   ]
  },
  {
   "cell_type": "code",
   "execution_count": 72,
   "id": "9289a741",
   "metadata": {},
   "outputs": [
    {
     "name": "stdout",
     "output_type": "stream",
     "text": [
      "74 lignes tests supprimées\n"
     ]
    }
   ],
   "source": [
    "len_df_before = len(df) # Nombre de lignes dans df avant suppression des lignes tests\n",
    "df = df.drop(lignes_test.index).reset_index() # Suppression des lignes tests\n",
    "print(len_df_before - len(df), 'lignes tests supprimées') # Nombre de lignes dans data après nettoyage\n"
   ]
  },
  {
   "cell_type": "code",
   "execution_count": 73,
   "id": "58079225",
   "metadata": {},
   "outputs": [
    {
     "name": "stdout",
     "output_type": "stream",
     "text": [
      "Clé primaire (0 doublon)\n"
     ]
    }
   ],
   "source": [
    "cle_primaire(df['date']) # cle primaire\n"
   ]
  },
  {
   "cell_type": "markdown",
   "id": "d5026283",
   "metadata": {},
   "source": [
    "# Dates \n",
    "On peut maintenant convertir la variable 'date' en datetime.\n"
   ]
  },
  {
   "cell_type": "code",
   "execution_count": 74,
   "id": "71093c50",
   "metadata": {},
   "outputs": [
    {
     "name": "stdout",
     "output_type": "stream",
     "text": [
      "<class 'pandas.core.frame.DataFrame'>\n",
      "RangeIndex: 336816 entries, 0 to 336815\n",
      "Data columns (total 9 columns):\n",
      " #   Column      Non-Null Count   Dtype         \n",
      "---  ------      --------------   -----         \n",
      " 0   index       336816 non-null  int64         \n",
      " 1   id_prod     336816 non-null  object        \n",
      " 2   date        336816 non-null  datetime64[ns]\n",
      " 3   session_id  336816 non-null  object        \n",
      " 4   client_id   336816 non-null  object        \n",
      " 5   sex         336816 non-null  object        \n",
      " 6   birth       336816 non-null  int64         \n",
      " 7   price       336713 non-null  float64       \n",
      " 8   categ       336713 non-null  float64       \n",
      "dtypes: datetime64[ns](1), float64(2), int64(2), object(4)\n",
      "memory usage: 23.1+ MB\n"
     ]
    }
   ],
   "source": [
    "df['date'] = pd.to_datetime(df['date'], format='%Y-%m-%d') # Conversion de 'date' en datetime\n",
    "df.info()"
   ]
  },
  {
   "cell_type": "code",
   "execution_count": 75,
   "id": "a8e93b4c",
   "metadata": {},
   "outputs": [
    {
     "data": {
      "image/png": "[encoded data removed]",
      "text/plain": [
       "<Figure size 864x576 with 1 Axes>"
      ]
     },
     "metadata": {},
     "output_type": "display_data"
    }
   ],
   "source": [
    "# URL du dossier de destination des graphiques\n",
    "url_fig = 'graphiques/'\n",
    "\n",
    "plt.figure(figsize=(12,8))\n",
    "sns.histplot(data=df, x='date', hue='categ', palette=[\"#ff9e80\", \"#ff6e40\", \"#ff3d00\"])\n",
    "plt.xticks(rotation=45)\n",
    "plt.title('Volume des ventes par date et catégorie')\n",
    "plt.savefig(url_fig + 'histogramme_date-categorie.png', dpi=300, bbox_inches='tight')\n",
    "plt.show()"
   ]
  },
  {
   "cell_type": "code",
   "execution_count": 76,
   "id": "729f44ce",
   "metadata": {},
   "outputs": [
    {
     "name": "stdout",
     "output_type": "stream",
     "text": [
      "Mois d'octobre =  6.1 % du dataset écarté\n"
     ]
    }
   ],
   "source": [
    "# pour equilibrer l'analyse on supprime toutes les donees du mois d'octobre\n",
    "\n",
    "len_df_before = len(df)\n",
    "# Transaxtions du mois octobre, toutes categories\n",
    "octobre = df[(df['date']>='2021-10-01') & (df['date']<='2021-10-31')]\n",
    "df.drop(octobre.index, inplace=True) # Suppression des données du mois d'octobre\n",
    "\n",
    "# Pourcentage du dataset écarté\n",
    "print('Mois d\\'octobre = ', round(((len_df_before - len(df)) / len_df_before * 100), 1), '% du dataset écarté')\n"
   ]
  },
  {
   "cell_type": "code",
   "execution_count": 77,
   "id": "5c85d827",
   "metadata": {},
   "outputs": [
    {
     "data": {
      "image/png": "[encoded data removed]",
      "text/plain": [
       "<Figure size 864x576 with 1 Axes>"
      ]
     },
     "metadata": {},
     "output_type": "display_data"
    }
   ],
   "source": [
    "# Volume des ventes par date et catégorie (sans le mois d\\'octobre\n",
    "plt.figure(figsize=(12,8))\n",
    "sns.histplot(data=df, x='date', hue='categ', palette=[\"#ff9e80\", \"#ff6e40\", \"#ff3d00\"])\n",
    "plt.xticks(rotation=45)\n",
    "plt.title('Volume des ventes par date et catégorie (après nettoyage)')\n",
    "plt.savefig(url_fig + 'histogramme_date-categorie_post-nettoyage.png', dpi=300, bbox_inches='tight')\n",
    "plt.show()"
   ]
  },
  {
   "cell_type": "markdown",
   "id": "53a20e9e",
   "metadata": {},
   "source": [
    "# Valeurs manquantes\n",
    "Rest a choisir une methode pour traiter les valeurs manquantes \n",
    "pour gerer les valeurs manquantes, 3 methodes:\n",
    "**suprimer les lignes concernees\n",
    "**determiner une valeur fixe\n",
    "**modeliser cette valeur"
   ]
  },
  {
   "cell_type": "code",
   "execution_count": 78,
   "id": "1df3fb56",
   "metadata": {},
   "outputs": [
    {
     "data": {
      "text/html": [
       "<div>\n",
       "<style scoped>\n",
       "    .dataframe tbody tr th:only-of-type {\n",
       "        vertical-align: middle;\n",
       "    }\n",
       "\n",
       "    .dataframe tbody tr th {\n",
       "        vertical-align: top;\n",
       "    }\n",
       "\n",
       "    .dataframe thead th {\n",
       "        text-align: right;\n",
       "    }\n",
       "</style>\n",
       "<table border=\"1\" class=\"dataframe\">\n",
       "  <thead>\n",
       "    <tr style=\"text-align: right;\">\n",
       "      <th></th>\n",
       "      <th>index</th>\n",
       "      <th>id_prod</th>\n",
       "      <th>date</th>\n",
       "      <th>session_id</th>\n",
       "      <th>client_id</th>\n",
       "      <th>sex</th>\n",
       "      <th>birth</th>\n",
       "      <th>price</th>\n",
       "      <th>categ</th>\n",
       "    </tr>\n",
       "  </thead>\n",
       "  <tbody>\n",
       "    <tr>\n",
       "      <th>6231</th>\n",
       "      <td>6235</td>\n",
       "      <td>0_2245</td>\n",
       "      <td>2021-06-17 03:03:12.668129</td>\n",
       "      <td>s_49705</td>\n",
       "      <td>c_1533</td>\n",
       "      <td>m</td>\n",
       "      <td>1972</td>\n",
       "      <td>NaN</td>\n",
       "      <td>NaN</td>\n",
       "    </tr>\n",
       "    <tr>\n",
       "      <th>10797</th>\n",
       "      <td>10802</td>\n",
       "      <td>0_2245</td>\n",
       "      <td>2021-06-16 05:53:01.627491</td>\n",
       "      <td>s_49323</td>\n",
       "      <td>c_7954</td>\n",
       "      <td>m</td>\n",
       "      <td>1973</td>\n",
       "      <td>NaN</td>\n",
       "      <td>NaN</td>\n",
       "    </tr>\n",
       "    <tr>\n",
       "      <th>14045</th>\n",
       "      <td>14051</td>\n",
       "      <td>0_2245</td>\n",
       "      <td>2021-11-24 17:35:59.911427</td>\n",
       "      <td>s_124474</td>\n",
       "      <td>c_5120</td>\n",
       "      <td>f</td>\n",
       "      <td>1975</td>\n",
       "      <td>NaN</td>\n",
       "      <td>NaN</td>\n",
       "    </tr>\n",
       "    <tr>\n",
       "      <th>17480</th>\n",
       "      <td>17486</td>\n",
       "      <td>0_2245</td>\n",
       "      <td>2022-02-28 18:08:49.875709</td>\n",
       "      <td>s_172304</td>\n",
       "      <td>c_4964</td>\n",
       "      <td>f</td>\n",
       "      <td>1982</td>\n",
       "      <td>NaN</td>\n",
       "      <td>NaN</td>\n",
       "    </tr>\n",
       "    <tr>\n",
       "      <th>21071</th>\n",
       "      <td>21078</td>\n",
       "      <td>0_2245</td>\n",
       "      <td>2021-03-01 00:09:29.301897</td>\n",
       "      <td>s_3</td>\n",
       "      <td>c_580</td>\n",
       "      <td>m</td>\n",
       "      <td>1988</td>\n",
       "      <td>NaN</td>\n",
       "      <td>NaN</td>\n",
       "    </tr>\n",
       "    <tr>\n",
       "      <th>...</th>\n",
       "      <td>...</td>\n",
       "      <td>...</td>\n",
       "      <td>...</td>\n",
       "      <td>...</td>\n",
       "      <td>...</td>\n",
       "      <td>...</td>\n",
       "      <td>...</td>\n",
       "      <td>...</td>\n",
       "      <td>...</td>\n",
       "    </tr>\n",
       "    <tr>\n",
       "      <th>322523</th>\n",
       "      <td>322597</td>\n",
       "      <td>0_2245</td>\n",
       "      <td>2021-04-06 19:59:19.462288</td>\n",
       "      <td>s_16936</td>\n",
       "      <td>c_4167</td>\n",
       "      <td>f</td>\n",
       "      <td>1979</td>\n",
       "      <td>NaN</td>\n",
       "      <td>NaN</td>\n",
       "    </tr>\n",
       "    <tr>\n",
       "      <th>329226</th>\n",
       "      <td>329300</td>\n",
       "      <td>0_2245</td>\n",
       "      <td>2021-03-30 23:29:02.347672</td>\n",
       "      <td>s_13738</td>\n",
       "      <td>c_7790</td>\n",
       "      <td>f</td>\n",
       "      <td>1983</td>\n",
       "      <td>NaN</td>\n",
       "      <td>NaN</td>\n",
       "    </tr>\n",
       "    <tr>\n",
       "      <th>330297</th>\n",
       "      <td>330371</td>\n",
       "      <td>0_2245</td>\n",
       "      <td>2021-12-03 14:14:40.444177</td>\n",
       "      <td>s_128815</td>\n",
       "      <td>c_6189</td>\n",
       "      <td>f</td>\n",
       "      <td>1984</td>\n",
       "      <td>NaN</td>\n",
       "      <td>NaN</td>\n",
       "    </tr>\n",
       "    <tr>\n",
       "      <th>335331</th>\n",
       "      <td>335405</td>\n",
       "      <td>0_2245</td>\n",
       "      <td>2021-04-27 18:58:47.703374</td>\n",
       "      <td>s_26624</td>\n",
       "      <td>c_1595</td>\n",
       "      <td>f</td>\n",
       "      <td>1973</td>\n",
       "      <td>NaN</td>\n",
       "      <td>NaN</td>\n",
       "    </tr>\n",
       "    <tr>\n",
       "      <th>336020</th>\n",
       "      <td>336094</td>\n",
       "      <td>0_2245</td>\n",
       "      <td>2021-05-01 03:35:03.146305</td>\n",
       "      <td>s_28235</td>\n",
       "      <td>c_5714</td>\n",
       "      <td>f</td>\n",
       "      <td>1972</td>\n",
       "      <td>NaN</td>\n",
       "      <td>NaN</td>\n",
       "    </tr>\n",
       "  </tbody>\n",
       "</table>\n",
       "<p>96 rows × 9 columns</p>\n",
       "</div>"
      ],
      "text/plain": [
       "         index id_prod                       date session_id client_id sex  \\\n",
       "6231      6235  0_2245 2021-06-17 03:03:12.668129    s_49705    c_1533   m   \n",
       "10797    10802  0_2245 2021-06-16 05:53:01.627491    s_49323    c_7954   m   \n",
       "14045    14051  0_2245 2021-11-24 17:35:59.911427   s_124474    c_5120   f   \n",
       "17480    17486  0_2245 2022-02-28 18:08:49.875709   s_172304    c_4964   f   \n",
       "21071    21078  0_2245 2021-03-01 00:09:29.301897        s_3     c_580   m   \n",
       "...        ...     ...                        ...        ...       ...  ..   \n",
       "322523  322597  0_2245 2021-04-06 19:59:19.462288    s_16936    c_4167   f   \n",
       "329226  329300  0_2245 2021-03-30 23:29:02.347672    s_13738    c_7790   f   \n",
       "330297  330371  0_2245 2021-12-03 14:14:40.444177   s_128815    c_6189   f   \n",
       "335331  335405  0_2245 2021-04-27 18:58:47.703374    s_26624    c_1595   f   \n",
       "336020  336094  0_2245 2021-05-01 03:35:03.146305    s_28235    c_5714   f   \n",
       "\n",
       "        birth  price  categ  \n",
       "6231     1972    NaN    NaN  \n",
       "10797    1973    NaN    NaN  \n",
       "14045    1975    NaN    NaN  \n",
       "17480    1982    NaN    NaN  \n",
       "21071    1988    NaN    NaN  \n",
       "...       ...    ...    ...  \n",
       "322523   1979    NaN    NaN  \n",
       "329226   1983    NaN    NaN  \n",
       "330297   1984    NaN    NaN  \n",
       "335331   1973    NaN    NaN  \n",
       "336020   1972    NaN    NaN  \n",
       "\n",
       "[96 rows x 9 columns]"
      ]
     },
     "execution_count": 78,
     "metadata": {},
     "output_type": "execute_result"
    }
   ],
   "source": [
    "produit_2245 = df[df['id_prod']=='0_2245'] # Échantillon du produit 0_2245\n",
    "produit_2245"
   ]
  },
  {
   "cell_type": "code",
   "execution_count": 79,
   "id": "07fce0e0",
   "metadata": {},
   "outputs": [
    {
     "name": "stdout",
     "output_type": "stream",
     "text": [
      "Produit 0_2245 : 0.03 % du dataset\n"
     ]
    }
   ],
   "source": [
    "# Pourcentage des ventes du produit 0_2245\n",
    "print('Produit 0_2245 :', round((len(produit_2245) / len(df) * 100), 2), '% du dataset')\n"
   ]
  },
  {
   "cell_type": "code",
   "execution_count": 80,
   "id": "d6ab8829",
   "metadata": {},
   "outputs": [
    {
     "name": "stderr",
     "output_type": "stream",
     "text": [
      "<ipython-input-80-1e08af4ef37c>:4: SettingWithCopyWarning: \n",
      "A value is trying to be set on a copy of a slice from a DataFrame.\n",
      "Try using .loc[row_indexer,col_indexer] = value instead\n",
      "\n",
      "See the caveats in the documentation: https://pandas.pydata.org/pandas-docs/stable/user_guide/indexing.html#returning-a-view-versus-a-copy\n",
      "  df_test['id_prod'] = df_test['id_prod'].str[:2]\n"
     ]
    },
    {
     "name": "stdout",
     "output_type": "stream",
     "text": [
      "Préfixes de 'id_prod' :\n",
      "- catégorie 0.0 : ['0_']\n",
      "- catégorie 2.0 : ['2_']\n",
      "- catégorie 1.0 : ['1_']\n"
     ]
    }
   ],
   "source": [
    "df_test = df.dropna() # Échantillon de l'ensemble des commandes, sans le produit 0_2245\n",
    "\n",
    "# Conversion en string des 2 premiers caractères de la valeur de 'id_prod'\n",
    "df_test['id_prod'] = df_test['id_prod'].str[:2]\n",
    "\n",
    "print('Préfixes de \\'id_prod\\' :') # Pour chaque catégorie, le préfixe unique de 'id_prod'\n",
    "for i in df_test['categ'].unique():\n",
    "    print('- catégorie', i, ':',\n",
    "        df_test[df.dropna()['categ']==i]['id_prod'].unique())\n"
   ]
  },
  {
   "cell_type": "code",
   "execution_count": 81,
   "id": "c936f083",
   "metadata": {},
   "outputs": [
    {
     "data": {
      "text/html": [
       "<div>\n",
       "<style scoped>\n",
       "    .dataframe tbody tr th:only-of-type {\n",
       "        vertical-align: middle;\n",
       "    }\n",
       "\n",
       "    .dataframe tbody tr th {\n",
       "        vertical-align: top;\n",
       "    }\n",
       "\n",
       "    .dataframe thead th {\n",
       "        text-align: right;\n",
       "    }\n",
       "</style>\n",
       "<table border=\"1\" class=\"dataframe\">\n",
       "  <thead>\n",
       "    <tr style=\"text-align: right;\">\n",
       "      <th></th>\n",
       "      <th>index</th>\n",
       "      <th>id_prod</th>\n",
       "      <th>date</th>\n",
       "      <th>session_id</th>\n",
       "      <th>client_id</th>\n",
       "      <th>sex</th>\n",
       "      <th>birth</th>\n",
       "      <th>price</th>\n",
       "      <th>categ</th>\n",
       "    </tr>\n",
       "  </thead>\n",
       "  <tbody>\n",
       "    <tr>\n",
       "      <th>21754</th>\n",
       "      <td>21761</td>\n",
       "      <td>0_2245</td>\n",
       "      <td>2022-02-11 09:05:43.952857</td>\n",
       "      <td>s_163405</td>\n",
       "      <td>c_1098</td>\n",
       "      <td>m</td>\n",
       "      <td>1986</td>\n",
       "      <td>NaN</td>\n",
       "      <td>0.00</td>\n",
       "    </tr>\n",
       "    <tr>\n",
       "      <th>30874</th>\n",
       "      <td>30886</td>\n",
       "      <td>0_2245</td>\n",
       "      <td>2021-08-22 08:51:27.564509</td>\n",
       "      <td>s_79102</td>\n",
       "      <td>c_6752</td>\n",
       "      <td>m</td>\n",
       "      <td>1987</td>\n",
       "      <td>NaN</td>\n",
       "      <td>0.00</td>\n",
       "    </tr>\n",
       "    <tr>\n",
       "      <th>35568</th>\n",
       "      <td>35581</td>\n",
       "      <td>0_2245</td>\n",
       "      <td>2021-12-29 23:24:51.621799</td>\n",
       "      <td>s_142078</td>\n",
       "      <td>c_2189</td>\n",
       "      <td>f</td>\n",
       "      <td>1983</td>\n",
       "      <td>NaN</td>\n",
       "      <td>0.00</td>\n",
       "    </tr>\n",
       "  </tbody>\n",
       "</table>\n",
       "</div>"
      ],
      "text/plain": [
       "       index id_prod                       date session_id client_id sex  \\\n",
       "21754  21761  0_2245 2022-02-11 09:05:43.952857   s_163405    c_1098   m   \n",
       "30874  30886  0_2245 2021-08-22 08:51:27.564509    s_79102    c_6752   m   \n",
       "35568  35581  0_2245 2021-12-29 23:24:51.621799   s_142078    c_2189   f   \n",
       "\n",
       "       birth  price  categ  \n",
       "21754   1986    NaN   0.00  \n",
       "30874   1987    NaN   0.00  \n",
       "35568   1983    NaN   0.00  "
      ]
     },
     "execution_count": 81,
     "metadata": {},
     "output_type": "execute_result"
    }
   ],
   "source": [
    "# Remplacement des valeurs manquantes de la variable 'categ' par 0\n",
    "df['categ'].replace(np.nan, 0, inplace=True)\n",
    "produit_2245 = df[df['id_prod']=='0_2245']\n",
    "produit_2245.sample(3)"
   ]
  },
  {
   "cell_type": "code",
   "execution_count": 82,
   "id": "5c3bb0ba",
   "metadata": {},
   "outputs": [
    {
     "name": "stderr",
     "output_type": "stream",
     "text": [
      "<ipython-input-82-642bcfb4f04c>:3: DeprecationWarning: `np.bool` is a deprecated alias for the builtin `bool`. To silence this warning, use `bool` by itself. Doing this will not modify any behavior and is safe. If you specifically wanted the numpy scalar type, use `np.bool_` here.\n",
      "Deprecated in NumPy 1.20; for more details and guidance: https://numpy.org/devdocs/release/1.20.0-notes.html#deprecations\n",
      "  heatmap = sns.heatmap(df.corr(), mask=np.triu(np.ones_like(df.corr(), dtype=np.bool)), vmin=-1, vmax=1, annot=True, cmap='BrBG')\n"
     ]
    },
    {
     "data": {
      "image/png": "[encoded data removed]",
      "text/plain": [
       "<Figure size 576x360 with 2 Axes>"
      ]
     },
     "metadata": {},
     "output_type": "display_data"
    }
   ],
   "source": [
    "# Triangle de corrélations\n",
    "plt.figure(figsize=(8, 5))\n",
    "heatmap = sns.heatmap(df.corr(), mask=np.triu(np.ones_like(df.corr(), dtype=np.bool)), vmin=-1, vmax=1, annot=True, cmap='BrBG')\n",
    "heatmap.set_title('Triangle de corrélations', fontdict={'fontsize':16}, pad=24)\n",
    "plt.xticks(rotation=45)\n",
    "plt.savefig(url_fig + 'triangle_correlations.png', dpi=300, bbox_inches='tight')\n",
    "plt.show()"
   ]
  },
  {
   "cell_type": "code",
   "execution_count": 83,
   "id": "5712f7f5",
   "metadata": {},
   "outputs": [
    {
     "data": {
      "image/png": "[encoded data removed]",
      "text/plain": [
       "<Figure size 576x216 with 1 Axes>"
      ]
     },
     "metadata": {},
     "output_type": "display_data"
    }
   ],
   "source": [
    "# Distribution et moyenne des prix par catégorie\n",
    "plt.figure(figsize=(8,3))\n",
    "sns.boxplot(data=df, y='categ', x='price', orient='h', showfliers=False, showmeans=True, palette=[\"#64ffda\", \"#536dfe\", \"#ff6e40\"], meanprops={\"marker\":\"s\",\"markerfacecolor\":\"white\"})\n",
    "plt.title('Distribution des prix par catégorie')\n",
    "plt.savefig(url_fig + 'boxplots_prix-categorie.png', dpi=300, bbox_inches='tight')\n",
    "plt.show()"
   ]
  },
  {
   "cell_type": "code",
   "execution_count": 84,
   "id": "3e08494b",
   "metadata": {},
   "outputs": [
    {
     "name": "stdout",
     "output_type": "stream",
     "text": [
      "Catégorie 0 : \n",
      "- Prix moyen : 10.65 \n",
      "- Prix médian : 9.99 \n",
      "- Mode : 4.99\n"
     ]
    }
   ],
   "source": [
    "print('Catégorie 0 :',\n",
    "    '\\n- Prix moyen :', round(df[df['categ']==0]['price'].mean(), 2), # Prix moyen\n",
    "    '\\n- Prix médian :', df[df['categ']==0]['price'].median(), # Prix médian\n",
    "    '\\n- Mode :', df[df['categ']==0]['price'].mode().values[0]) # Prix le plus fréquent\n"
   ]
  },
  {
   "cell_type": "code",
   "execution_count": 85,
   "id": "66375eae",
   "metadata": {},
   "outputs": [
    {
     "data": {
      "image/png": "[encoded data removed]",
      "text/plain": [
       "<Figure size 576x144 with 1 Axes>"
      ]
     },
     "metadata": {},
     "output_type": "display_data"
    }
   ],
   "source": [
    "train = df[df['id_prod']!='0_2245'] # Échantillon d'entrainement \n",
    "y = train['price'].to_numpy() # Variable cible\n",
    "features = ['birth', 'categ'] # Variables explicatives\n",
    "X = pd.get_dummies(train[features]).to_numpy() # Échantillon d'entrainement (variables encodées)\n",
    "X_test = pd.get_dummies(produit_2245[features]).to_numpy() # Échantillon test\n",
    "model = sk.linear_model.LinearRegression() # Modèle\n",
    "model.fit(X, y) # Fit les variables explicatives et la target sur le modèle\n",
    "predictions = pd.Series(model.predict(X_test)) # Prédiction sur l'échantillon test\n",
    "\n",
    "plt.figure(figsize=(8, 2))\n",
    "sns.violinplot(data=predictions, orient='h', showfliers=False, showmeans=True)\n",
    "sns.boxplot(data=predictions, orient='h', showfliers=False, showmeans=True)\n",
    "plt.title('Distribution et moyenne des prédictions de prix du produit 0_2245')\n",
    "plt.savefig(url_fig + 'boxplot_predictions-prix.png', dpi=300, bbox_inches='tight')\n",
    "plt.show()"
   ]
  },
  {
   "cell_type": "code",
   "execution_count": 86,
   "id": "029876f7",
   "metadata": {},
   "outputs": [
    {
     "name": "stdout",
     "output_type": "stream",
     "text": [
      "Prédictions sur la catégorie: \n",
      "- Prix moyen : 8.45 \n",
      "- Prix médian : 8.7 \n",
      "- Mode : 8.6\n"
     ]
    }
   ],
   "source": [
    "print('Prédictions sur la catégorie:',\n",
    "    '\\n- Prix moyen :', round(predictions.mean(), 2),\n",
    "    '\\n- Prix médian :', round(predictions.median(), 2),\n",
    "    '\\n- Mode :', round(predictions.mode(), 2)[0])\n"
   ]
  },
  {
   "cell_type": "code",
   "execution_count": 87,
   "id": "cdc0b4b0",
   "metadata": {},
   "outputs": [],
   "source": [
    "df['price'].replace(np.nan, 9.99, inplace=True)\n"
   ]
  },
  {
   "cell_type": "code",
   "execution_count": 88,
   "id": "13470129",
   "metadata": {},
   "outputs": [
    {
     "name": "stderr",
     "output_type": "stream",
     "text": [
      "C:\\Users\\DELL\\anaconda3\\lib\\site-packages\\seaborn\\_decorators.py:36: FutureWarning: Pass the following variable as a keyword arg: x. From version 0.12, the only valid positional argument will be `data`, and passing other arguments without an explicit keyword will result in an error or misinterpretation.\n",
      "  warnings.warn(\n"
     ]
    },
    {
     "data": {
      "image/png": "[encoded data removed]",
      "text/plain": [
       "<Figure size 576x288 with 1 Axes>"
      ]
     },
     "metadata": {},
     "output_type": "display_data"
    }
   ],
   "source": [
    "train = df[df['id_prod']!='0_2245']\n",
    "features = ['sex', 'birth']\n",
    "y = train['categ']\n",
    "X = pd.get_dummies(train[features])\n",
    "X_test = pd.get_dummies(produit_2245[features])\n",
    "model = sk.ensemble.RandomForestClassifier()\n",
    "model.fit(X, y)\n",
    "predictions = model.predict(X_test)\n",
    "\n",
    "sns.countplot(predictions)\n",
    "plt.title('Prédictions de catégorie des individus du produit 0_2245')\n",
    "plt.savefig(url_fig + 'countplot_predictions-categorie.png', dpi=300, bbox_inches='tight')\n",
    "plt.show()"
   ]
  },
  {
   "cell_type": "markdown",
   "id": "a1705a79",
   "metadata": {},
   "source": [
    "# Variables Supplementaires\n",
    "        Pour enrichir l'analyse on cree quelques variables additionnelles comme:\n",
    "// le mois de la transaction\n",
    "// le nombre de prosuits achetes par client chaque mois\n",
    "// le nombre de ventes total par client sur l'annee entier\n",
    "// le panier moyen\n",
    "// la taille du panier moyen pour chaque client\n",
    "// le chiffre d'affaire total par client sur l'annee\n"
   ]
  },
  {
   "cell_type": "code",
   "execution_count": 89,
   "id": "f4274cd1",
   "metadata": {},
   "outputs": [
    {
     "data": {
      "text/html": [
       "<div>\n",
       "<style scoped>\n",
       "    .dataframe tbody tr th:only-of-type {\n",
       "        vertical-align: middle;\n",
       "    }\n",
       "\n",
       "    .dataframe tbody tr th {\n",
       "        vertical-align: top;\n",
       "    }\n",
       "\n",
       "    .dataframe thead th {\n",
       "        text-align: right;\n",
       "    }\n",
       "</style>\n",
       "<table border=\"1\" class=\"dataframe\">\n",
       "  <thead>\n",
       "    <tr style=\"text-align: right;\">\n",
       "      <th></th>\n",
       "      <th>index</th>\n",
       "      <th>id_prod</th>\n",
       "      <th>date</th>\n",
       "      <th>session_id</th>\n",
       "      <th>client_id</th>\n",
       "      <th>sex</th>\n",
       "      <th>birth</th>\n",
       "      <th>price</th>\n",
       "      <th>categ</th>\n",
       "      <th>mois</th>\n",
       "      <th>total_ventes</th>\n",
       "      <th>ventes_mensuelles</th>\n",
       "      <th>taille_panier_moyen</th>\n",
       "      <th>panier_moyen</th>\n",
       "      <th>total_achats</th>\n",
       "    </tr>\n",
       "  </thead>\n",
       "  <tbody>\n",
       "    <tr>\n",
       "      <th>195786</th>\n",
       "      <td>208652</td>\n",
       "      <td>0_1358</td>\n",
       "      <td>2022-02-18 14:46:14.560507</td>\n",
       "      <td>s_167132</td>\n",
       "      <td>c_7062</td>\n",
       "      <td>m</td>\n",
       "      <td>1980</td>\n",
       "      <td>16.49</td>\n",
       "      <td>0.00</td>\n",
       "      <td>2</td>\n",
       "      <td>40</td>\n",
       "      <td>4.00</td>\n",
       "      <td>2.22</td>\n",
       "      <td>12.96</td>\n",
       "      <td>489.38</td>\n",
       "    </tr>\n",
       "    <tr>\n",
       "      <th>190325</th>\n",
       "      <td>202868</td>\n",
       "      <td>0_1923</td>\n",
       "      <td>2021-03-05 02:12:24.877618</td>\n",
       "      <td>s_1884</td>\n",
       "      <td>c_3732</td>\n",
       "      <td>m</td>\n",
       "      <td>1989</td>\n",
       "      <td>3.99</td>\n",
       "      <td>0.00</td>\n",
       "      <td>3</td>\n",
       "      <td>76</td>\n",
       "      <td>7.00</td>\n",
       "      <td>3.04</td>\n",
       "      <td>12.68</td>\n",
       "      <td>933.39</td>\n",
       "    </tr>\n",
       "    <tr>\n",
       "      <th>115069</th>\n",
       "      <td>122735</td>\n",
       "      <td>0_1584</td>\n",
       "      <td>2022-01-17 08:43:23.442587</td>\n",
       "      <td>s_151062</td>\n",
       "      <td>c_1609</td>\n",
       "      <td>m</td>\n",
       "      <td>1980</td>\n",
       "      <td>11.85</td>\n",
       "      <td>0.00</td>\n",
       "      <td>1</td>\n",
       "      <td>11861</td>\n",
       "      <td>1,078.00</td>\n",
       "      <td>35.41</td>\n",
       "      <td>12.72</td>\n",
       "      <td>151,018.91</td>\n",
       "    </tr>\n",
       "  </tbody>\n",
       "</table>\n",
       "</div>"
      ],
      "text/plain": [
       "         index id_prod                       date session_id client_id sex  \\\n",
       "195786  208652  0_1358 2022-02-18 14:46:14.560507   s_167132    c_7062   m   \n",
       "190325  202868  0_1923 2021-03-05 02:12:24.877618     s_1884    c_3732   m   \n",
       "115069  122735  0_1584 2022-01-17 08:43:23.442587   s_151062    c_1609   m   \n",
       "\n",
       "        birth  price  categ  mois  total_ventes  ventes_mensuelles  \\\n",
       "195786   1980  16.49   0.00     2            40               4.00   \n",
       "190325   1989   3.99   0.00     3            76               7.00   \n",
       "115069   1980  11.85   0.00     1         11861           1,078.00   \n",
       "\n",
       "        taille_panier_moyen  panier_moyen  total_achats  \n",
       "195786                 2.22         12.96        489.38  \n",
       "190325                 3.04         12.68        933.39  \n",
       "115069                35.41         12.72    151,018.91  "
      ]
     },
     "execution_count": 89,
     "metadata": {},
     "output_type": "execute_result"
    }
   ],
   "source": [
    "# Mois de la transaction\n",
    "df['mois'] = pd.DatetimeIndex(df['date']).month # Mois, de 1 à 12\n",
    "df.sample()\n",
    "\n",
    "df['date_fixe'] = df['date'].dt.date # Variable temporaire de date fixe (jour)\n",
    "\n",
    "df = df.merge(\n",
    "    df.groupby('client_id').count()['date'].reset_index().rename(columns={'date': 'total_ventes'}),\n",
    "    how='left', on='client_id')\n",
    "df.sample(3)\n",
    "\n",
    "df['ventes_mensuelles'] = round(df['total_ventes'] / 11)\n",
    "df.sample()\n",
    "\n",
    "df = df.merge(\n",
    "    df.pivot_table(\n",
    "        index=['client_id', 'date_fixe'], \n",
    "        values='price', \n",
    "        aggfunc='count').reset_index().pivot_table(\n",
    "        index='client_id').reset_index().rename(\n",
    "        columns={'price': 'taille_panier_moyen'}), \n",
    "    on='client_id', how='left')\n",
    "\n",
    "df = df.merge(\n",
    "    df.pivot_table(\n",
    "        index=['client_id', 'date_fixe'], \n",
    "        values='price').reset_index().pivot_table(\n",
    "        index='client_id').reset_index().rename(\n",
    "        columns={'price': 'panier_moyen'}), \n",
    "    on='client_id', how='left').drop('date_fixe', axis=1)\n",
    "\n",
    "\n",
    "df = df.merge(\n",
    "    df.pivot_table(\n",
    "    index='client_id', values='price', \n",
    "    aggfunc='sum').reset_index().rename(\n",
    "    columns={'price': 'total_achats'}),\n",
    "    on='client_id', how='left')\n",
    "df.sample(3)"
   ]
  },
  {
   "cell_type": "code",
   "execution_count": null,
   "id": "c7f75c3f",
   "metadata": {},
   "outputs": [],
   "source": []
  }
 ],
 "metadata": {
  "kernelspec": {
   "display_name": "Python 3",
   "language": "python",
   "name": "python3"
  },
  "language_info": {
   "codemirror_mode": {
    "name": "ipython",
    "version": 3
   },
   "file_extension": ".py",
   "mimetype": "text/x-python",
   "name": "python",
   "nbconvert_exporter": "python",
   "pygments_lexer": "ipython3",
   "version": "3.8.8"
  }
 },
 "nbformat": 4,
 "nbformat_minor": 5
}
